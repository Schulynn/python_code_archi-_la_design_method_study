{
 "cells": [
  {
   "cell_type": "markdown",
   "id": "c50dd1db-d5d0-4c07-a7a3-6006cd7a1566",
   "metadata": {},
   "source": [
    "> Created on Sun Sep  5 15:42:24 2021 @author: Richie Bao-python_code_archi_la_design_method_study 西安建筑科技大学-规划/建筑/景观本科数字化系列课程"
   ]
  },
  {
   "cell_type": "markdown",
   "id": "1f61c94a-7713-4958-91d7-d067642322f2",
   "metadata": {},
   "source": [
    "# 设计师与PYTHON | PYTHON基础速学"
   ]
  },
  {
   "cell_type": "markdown",
   "id": "c11fe3f9-ceaf-4470-8783-0a8067cbc9ee",
   "metadata": {},
   "source": [
    "## 1. python应用的方式\n",
    "\n",
    "### 1.1 软件嵌入python脚本语言\n",
    "\n",
    "* 1.1.1 参数化平台下使用python (e.g. [rhinoceros](https://www.rhino3d.com/)+[grasshopper]()):\n",
    "\n",
    "<a href=\"\"><img src=\"./imgs/001.png\" height=\"auto\" width=\"auto\" title=\"caDesign\"></a>\n",
    "\n",
    "* 1.1.2 BIM平台下使用python (e.g. [revit](https://www.autodesk.com/products/revit/overview)+[dynamo](https://dynamobim.org/))\n",
    "\n",
    "<a href=\"\"><img src=\"./imgs/003.png\" height=\"auto\" width=\"auto\" title=\"caDesign\"></a>\n",
    "\n",
    "* 1.1.3 GIS平台下使用python (e.g. [QGIS](https://www.qgis.org/en/site/), [ArcGIS](https://www.esri.com/en-us/arcgis/products/arcgis-pro/overview))\n",
    "\n",
    "<a href=\"\"><img src=\"./imgs/002.png\" height=\"auto\" width=\"auto\" title=\"caDesign\"></a>\n",
    "\n",
    "### 1.2 独立应用python"
   ]
  },
  {
   "cell_type": "markdown",
   "id": "43a9db4a-7356-4762-b6ec-f2bfe0688259",
   "metadata": {},
   "source": [
    "## 2. 开始学习的准备工作\n",
    "\n",
    "### 2.1 python解释器/编辑器\n",
    "\n",
    "序号 |解释器名称| 免费与否|推荐说明|\n",
    "------------ |:-------------|:-------------|:-------------|\n",
    "1 |[python 官方](https://www.python.org/downloads/)|免费|**不推荐**，但轻便，可以安装，偶尔用于随手简单代码的验证，乃至当计算器使用| \n",
    "2 |[anaconda](https://www.anaconda.com/)|个人版(Individual Edition)免费；<em>团队版(Team Edition)和企业版(Enterprise Edition)付费</em> |集成了众多科学包及其依赖项，**强烈推荐**，因为自行解决依赖项是一件十分令人苦恼的事情。其中包含Spyder和JupyterLab为本书所使用|\n",
    "3 |[Visual Studio Code(VSC)](https://code.visualstudio.com/)|免费|**推荐使用**，用于查看代码非常方便，并支持多种语言格式；同时本书用docsify部署网页版时，即使用VSC实现|\n",
    "4 |[PyCharm](https://www.jetbrains.com/pycharm/download/#section=windows)|付费|**一般推荐**，通常只在部署网页时使用，本书“实验用网络应用平台的部署部分”用到该平台|\n",
    "5 |[Notepad++](https://notepad-plus-plus.org/)|免费|仅用于查看代码、文本编辑，**推荐使用**，轻便的纯文本代码编辑器，可以用于代码查看，尤其兼容众多文件格式，当有些文件乱码时，不妨尝试用此编辑器|\n",
    "\n",
    "<a href=\"https://www.anaconda.com/\"><img src=\"./imgs/anacondaimg.jpg\" height=\"50\" width=\"auto\" title=\"caDesign\">\n",
    "<a href=\"https://www.python.org/downloads/\"><img src=\"./imgs/python-logo@2x.png\" height=\"50\" width=\"auto\" title=\"caDesign\">\n",
    "<a href=\"https://code.visualstudio.com/\"><img src=\"./imgs/vsc.jpg\" height=\"35\" width=\"auto\" title=\"caDesign\" align=\"top\">\n",
    "<a href=\"https://www.jetbrains.com/pycharm/download/#section=windows\"><img src=\"./imgs/PyCharm_Logo1.png\" height=\"65\" width=\"auto\" title=\"caDesign\" align=\"top\">\n",
    "<a href=\"https://notepad-plus-plus.org/\"><img src=\"./imgs/notepadlogo.png\" height=\"50\" width=\"auto\" title=\"caDesign\">\n",
    "<a href=\"https://jupyter.org/\"><img src=\"./imgs/logo_svg.png\" height=\"45\" width=\"auto\" title=\"caDesign\">\n",
    "\n",
    "\n",
    "其它解释器/编辑器：[gedit Text Editor](https://help.gnome.org/users/gedit/stable/), [Sublime Text](https://www.sublimetext.com/), [SPE IDE - Stani's Python Editor](https://pythonide.blogspot.com/), [SciTE](https://www.scintilla.org/SciTEDownload.html), [Geany](https://www.geany.org/); [Wing Python IDE](https://www.wingware.com/), [Pyzo](https://pyzo.org/), [PyScripter](https://sourceforge.net/projects/pyscripter/)\n",
    "    \n",
    "> IDE(Integrated development environmen, 集成开发环境)\n",
    "\n",
    "### 2.2 代码托管    \n",
    "* [GitHub](https://github.com/richieBao)\n",
    "    \n",
    "__push and pull__ :1. 桌面窗口方式 [GitHub Desktop](https://desktop.github.com/); 2. Ubuntu(Linux)终端terminal代码方式`git add -all; git commit -m <NOTE>'; git push <REMOTENAME> <BRANCHNAME>`；3. 在线同步 [StackEdit](https://stackedit.io/app#); 4. 直接在线编辑。\n",
    "    \n",
    "* [Gitee](https://gitee.com/) \n",
    "    \n",
    "* 服务器（可以自行租用），例如[阿里云](https://developer.aliyun.com/)\n",
    "    \n",
    "### 2.3 English+翻译词典\n",
    "路径文件夹，文件名以英文命名。除必要（例如注释，中文数据），应均已英文书写。\n",
    "    \n",
    "### 2.4 用[Markdown](https://www.markdownguide.org/)记笔记\n",
    "用使用[JupyterLab或者Jupyter Notebook](https://jupyter.org/)，[Visual Studio Code(VSC)](https://code.visualstudio.com/)或者其它Markdown编辑器。"
   ]
  },
  {
   "cell_type": "markdown",
   "id": "a010ffe6-6581-48ed-a269-8212a27f29ec",
   "metadata": {},
   "source": [
    "## 3. 练习，记忆与搜索\n",
    "（不断重复，与实际应用）"
   ]
  },
  {
   "cell_type": "code",
   "execution_count": 6,
   "id": "a2820fd0-d990-46d3-a933-dfcc26a42913",
   "metadata": {},
   "outputs": [
    {
     "name": "stdout",
     "output_type": "stream",
     "text": [
      "3.8.11\n"
     ]
    }
   ],
   "source": [
    "from platform import python_version #查看Jupyter notebook的python版本，调入了platform库中的python_version方法查看版本\n",
    "print(python_version())"
   ]
  },
  {
   "cell_type": "markdown",
   "id": "0a12f77d-756d-40b9-a719-6e88a6e69892",
   "metadata": {},
   "source": [
    "### 3.1 不知道运行结果，就很难写代码。善用print()\n",
    "print()是python语言中使用最为频繁的语句，在代码编写、调试过程中，要不断的用该语句来查看数据的值、数据的变化、数据的结构、变量所代表的内容、监测程序进程、以及显示结果等等，print()实时查看数据反馈，才可知道代码编写的目的是否达到，并做出反馈，善用print()是用python写代码的基础"
   ]
  },
  {
   "cell_type": "code",
   "execution_count": 10,
   "id": "ecc7fd05-e0af-475c-a119-bb17d6fff938",
   "metadata": {},
   "outputs": [
    {
     "name": "stdout",
     "output_type": "stream",
     "text": [
      "Hello python!\n"
     ]
    }
   ],
   "source": [
    "print('Hello python!') #打印字符串"
   ]
  },
  {
   "cell_type": "code",
   "execution_count": 9,
   "id": "fd009105-ca9b-4b76-9ee6-8a132c2cbb92",
   "metadata": {},
   "outputs": [
    {
     "name": "stdout",
     "output_type": "stream",
     "text": [
      "Hello world!\n",
      "__________________________________________________\n",
      "编程让设计更具创造力！\n",
      "Everybody should learn how to code a computer, because it teaches you how to think, and allows designers more creative!\n"
     ]
    }
   ],
   "source": [
    "print(\"Hello world!\")\n",
    "print(\"_\"*50)\n",
    "print(\"编程让设计更具创造力！\")\n",
    "print(\"Everybody should learn how to code a computer, because it teaches you how to think, and allows designers more creative!\")"
   ]
  },
  {
   "cell_type": "code",
   "execution_count": 19,
   "id": "8d97ec22-5fc8-4596-af53-3316f069eac6",
   "metadata": {},
   "outputs": [
    {
     "name": "stdout",
     "output_type": "stream",
     "text": [
      "加： 6\n",
      "减： 2\n",
      "乘： 9\n",
      "除： 1.0\n",
      "整除： 1\n",
      "余数： 1\n",
      "幂： 27\n"
     ]
    }
   ],
   "source": [
    "print(\"加：\",3+3) #打印简单的运算\n",
    "print(\"减：\",3-1)\n",
    "print(\"乘：\",3*3)\n",
    "print(\"除：\", 3/3)\n",
    "print(\"整除：\", 3//2)\n",
    "print(\"余数：\", 3%2)\n",
    "print(\"幂：\",3**3)"
   ]
  },
  {
   "cell_type": "markdown",
   "id": "1745943c-3407-42e1-a20e-3f1eac21bf3c",
   "metadata": {},
   "source": [
    "**二元运算符**\n",
    "\n",
    "| 运算         | 说明                                                |\n",
    "|------------|---------------------------------------------------|\n",
    "| a+b        | a加b                                               |\n",
    "| a-b        | a减b                                               |\n",
    "| a*b        | a乘以b                                              |\n",
    "| a/b        | a除以b                                              |\n",
    "| a//b       | a除以b后向下取整                                         |\n",
    "| a**b       | a的b次方                                             |\n",
    "| a&b        | 如果a和b均为True，则结果为True。对于整数，执行按位与操作。                |\n",
    "| a|b        | 如果a和b任何一个为True，则结果为True。对于整数，执行按位或操作              |\n",
    "| a^b        | 对于布尔值，如果a或b为True(但不都为True)，则结果为True。对于整数，执行按位异或操作 |\n",
    "| a==b       | 如果a等于b，则结果为True                                   |\n",
    "| a!=b       | 如果a不等于b，则结果为True                                  |\n",
    "| a<=b、a<b   | 如果a小于等于(或小于)b，则结果为True                            |\n",
    "| a>b、a>=b   | 如果a大于(或大于等于)b，则结果为True                            |\n",
    "| a is b     | 如果变量a和b指向同一个python对象，则结果为True                     |\n",
    "| a is not b | 如果变量a和b指向不同的python对象，则结果为True                     |"
   ]
  },
  {
   "cell_type": "markdown",
   "id": "530bae08-1aef-4835-9820-d2aecea9155b",
   "metadata": {},
   "source": [
    "### 3.2 变量及赋值 (Variables and assignment)\n",
    "代码读起来应该像流畅的英语散文，而不是加密的密码。好的易读的变量名的定义正是让代码变的流畅的基础。变量名不能以数字和特殊字符为开头，也不可以内置的函数名定义，也不存在空格，如果由几个单词或数字组成变量名，通常由下划线连接，或者每一新单词首字母大写。变量名定义不符合规范时，解释器会提示错误。"
   ]
  },
  {
   "cell_type": "code",
   "execution_count": 1,
   "id": "2ef7074f-c12c-40b8-8dc9-4c1c84022a01",
   "metadata": {},
   "outputs": [
    {
     "ename": "NameError",
     "evalue": "name 'x' is not defined",
     "output_type": "error",
     "traceback": [
      "\u001b[1;31m---------------------------------------------------------------------------\u001b[0m",
      "\u001b[1;31mNameError\u001b[0m                                 Traceback (most recent call last)",
      "\u001b[1;32m~\\AppData\\Local\\Temp/ipykernel_13536/1607899601.py\u001b[0m in \u001b[0;36m<module>\u001b[1;34m\u001b[0m\n\u001b[1;32m----> 1\u001b[1;33m \u001b[0mfunc\u001b[0m\u001b[1;33m=\u001b[0m\u001b[1;36m2\u001b[0m\u001b[1;33m*\u001b[0m\u001b[0mx\u001b[0m\u001b[1;33m+\u001b[0m\u001b[1;36m1\u001b[0m \u001b[1;31m#当程序逐行从上至下运行时，注意变量定义的顺序\u001b[0m\u001b[1;33m\u001b[0m\u001b[1;33m\u001b[0m\u001b[0m\n\u001b[0m\u001b[0;32m      2\u001b[0m \u001b[0mx\u001b[0m\u001b[1;33m=\u001b[0m\u001b[1;36m5\u001b[0m\u001b[1;33m\u001b[0m\u001b[1;33m\u001b[0m\u001b[0m\n\u001b[0;32m      3\u001b[0m \u001b[0mprint\u001b[0m\u001b[1;33m(\u001b[0m\u001b[0mfunc\u001b[0m\u001b[1;33m)\u001b[0m\u001b[1;33m\u001b[0m\u001b[1;33m\u001b[0m\u001b[0m\n",
      "\u001b[1;31mNameError\u001b[0m: name 'x' is not defined"
     ]
    }
   ],
   "source": [
    "func=2*x+1 #当程序逐行从上至下运行时，注意变量定义的顺序\n",
    "x=5\n",
    "print(func)"
   ]
  },
  {
   "cell_type": "code",
   "execution_count": 13,
   "id": "cc177119-f64e-4fbc-b020-027fd624f490",
   "metadata": {},
   "outputs": [
    {
     "name": "stdout",
     "output_type": "stream",
     "text": [
      "monadic_equation= 11.0\n",
      "monadic_equation=11.00\n",
      "monadic_equation=11.00\n"
     ]
    }
   ],
   "source": [
    "x=5.0\n",
    "monadic_equation=2*x+1\n",
    "print(\"monadic_equation=\",monadic_equation)\n",
    "print(\"monadic_equation=%.2f\"%monadic_equation) #%字符串格式化方法\n",
    "print(\"monadic_equation={:.2f}\".format(monadic_equation)) #format()字符串格式化方法"
   ]
  },
  {
   "cell_type": "code",
   "execution_count": 2,
   "id": "fe69a988-93e3-4139-9d2f-b6fc930f9e53",
   "metadata": {},
   "outputs": [
    {
     "name": "stdout",
     "output_type": "stream",
     "text": [
      "The longitude of the Xi'an coordinate is 108.94, and the latitude is 34.261013.\n"
     ]
    }
   ],
   "source": [
    "city_name=\"Xi'an\"\n",
    "coordinate_longitude=108.942292\n",
    "coordiante_latitude=34.261013\n",
    "print(\"The longitude of the Xi'an coordinate is {lon:.2f}, and the latitude is {lat}.\".format(lon=coordinate_longitude,lat=coordiante_latitude))"
   ]
  },
  {
   "cell_type": "code",
   "execution_count": 5,
   "id": "dc344741-a158-49ec-9f97-c84ca81836bf",
   "metadata": {},
   "outputs": [
    {
     "name": "stdout",
     "output_type": "stream",
     "text": [
      "func_2=26\n"
     ]
    }
   ],
   "source": [
    "x,y,b=2,5,7 #unpacking 序列解包。尝试，x,y,*z=0,1,2,3,4,5,6; x,y,*z=0,1; (x,y),(a,b)=(0,1),(2,3)\n",
    "func_2=2*x+3*y+b\n",
    "print(\"func_2={}\".format(x,y,b,func_2))"
   ]
  },
  {
   "cell_type": "markdown",
   "id": "f2bd391c-fa14-43b5-8376-00d284cf5319",
   "metadata": {},
   "source": [
    "## 3.3 数据结构\n",
    "### 3.3.1 数据结构类型\n",
    "\n",
    "* 基础数据类型：list(列表),tuple(元组),dictionary(dict, 字典)，string(str,字符串)。\n",
    "\n",
    "* 库扩展数据类型：array(数组，[NumPy](https://numpy.org/)); DataFrame(table/表/数据框，[pandas](https://pandas.pydata.org/))|series; GeoDataFrame(地理table/表/数据框，[GeoPandas](https://geopandas.org/docs/user_guide/data_structures.html))|GeoSeries; tensor(张量，深度学习库[PyTorch](https://pytorch.org/))\n",
    "\n",
    "> CPU和GPU: 深入学习库，[PyTorch](https://pytorch.org/)和[TensorFlow](https://www.tensorflow.org/)\n",
    "\n",
    "### 3.3.2 list"
   ]
  },
  {
   "cell_type": "code",
   "execution_count": 18,
   "id": "59460770-a1eb-4926-b84f-cfed2409cf18",
   "metadata": {},
   "outputs": [
    {
     "name": "stdout",
     "output_type": "stream",
     "text": [
      "[5, 8, 11, 14, 17]\n",
      "The list length=5\n",
      "Maximum value=17\n",
      "Minimum value=5\n"
     ]
    }
   ],
   "source": [
    "lst_n=list(range(5,20,3)) #建立列表。range(start,stop,[,step])建立区间。\n",
    "print(lst)\n",
    "print(\"The list length={}\".format(len(lst_n)))\n",
    "print(\"Maximum value={}\".format(max(lst_n)))\n",
    "print(\"Minimum value={}\".format(min(lst_n)))"
   ]
  },
  {
   "cell_type": "markdown",
   "id": "e0c2adb5-62dc-4898-8c30-72b0790d5f2e",
   "metadata": {},
   "source": [
    "* 分片(List Slices)"
   ]
  },
  {
   "cell_type": "code",
   "execution_count": 88,
   "id": "d1e02f12-44bf-42e6-863c-a6b13e58770b",
   "metadata": {},
   "outputs": [
    {
     "name": "stdout",
     "output_type": "stream",
     "text": [
      "['d', 'e', 'f', 'g', 'h', 'i', 'j', 'k', 'l', 'm']\n",
      "__________________________________________________\n",
      "[3:6]->['g', 'h', 'i']\n",
      "[-3:-1]->['k', 'l']\n",
      "[-3:]->['k', 'l', 'm']\n",
      "[:3]->['d', 'e', 'f']\n",
      "[:]->['d', 'e', 'f', 'g', 'h', 'i', 'j', 'k', 'l', 'm']\n"
     ]
    }
   ],
   "source": [
    "lst_s=list(map(chr,range(100,110)))\n",
    "print(lst_s)\n",
    "print(\"_\"*50)\n",
    "print(\"[3:6]->{}\".format(lst_s[3:6]))\n",
    "print(\"[-3:-1]->{}\".format(lst_s[-3:-1]))\n",
    "print(\"[-3:]->{}\".format(lst_s[-3:]))\n",
    "print(\"[:3]->{}\".format(lst_s[:3]))\n",
    "print(\"[:]->{}\".format(lst_s[:]))"
   ]
  },
  {
   "cell_type": "markdown",
   "id": "96ce3c0f-24cc-4dde-8637-375078b8adc9",
   "metadata": {},
   "source": [
    "**列表索引示例**\n",
    "\n",
    "<a href=\"\"><img src=\"./imgs/004.png\" height=\"auto\" width=\"auto\" title=\"caDesign\"></a>"
   ]
  },
  {
   "cell_type": "code",
   "execution_count": 32,
   "id": "60627edc-65a4-4de7-b846-492949deb270",
   "metadata": {},
   "outputs": [
    {
     "name": "stdout",
     "output_type": "stream",
     "text": [
      "Help on class map in module builtins:\n",
      "\n",
      "class map(object)\n",
      " |  map(func, *iterables) --> map object\n",
      " |  \n",
      " |  Make an iterator that computes the function using arguments from\n",
      " |  each of the iterables.  Stops when the shortest iterable is exhausted.\n",
      " |  \n",
      " |  Methods defined here:\n",
      " |  \n",
      " |  __getattribute__(self, name, /)\n",
      " |      Return getattr(self, name).\n",
      " |  \n",
      " |  __iter__(self, /)\n",
      " |      Implement iter(self).\n",
      " |  \n",
      " |  __next__(self, /)\n",
      " |      Implement next(self).\n",
      " |  \n",
      " |  __reduce__(...)\n",
      " |      Return state information for pickling.\n",
      " |  \n",
      " |  ----------------------------------------------------------------------\n",
      " |  Static methods defined here:\n",
      " |  \n",
      " |  __new__(*args, **kwargs) from builtins.type\n",
      " |      Create and return a new object.  See help(type) for accurate signature.\n",
      "\n"
     ]
    }
   ],
   "source": [
    "help(map) #用help()方法查看说明"
   ]
  },
  {
   "cell_type": "code",
   "execution_count": 33,
   "id": "200cd9d5-5bb4-4788-be05-e762c1e40329",
   "metadata": {},
   "outputs": [
    {
     "name": "stdout",
     "output_type": "stream",
     "text": [
      "Help on built-in function chr in module builtins:\n",
      "\n",
      "chr(i, /)\n",
      "    Return a Unicode string of one character with ordinal i; 0 <= i <= 0x10ffff.\n",
      "\n"
     ]
    }
   ],
   "source": [
    "help(chr)"
   ]
  },
  {
   "cell_type": "markdown",
   "id": "bcb1da3f-f160-4890-ab32-d10d5c089ea7",
   "metadata": {},
   "source": [
    "* 带有步长(step length)参数的分片。List[a:b:s]\n",
    "\n",
    "<a href=\"\"><img src=\"./imgs/005.png\" height=\"auto\" width=\"auto\" title=\"caDesign\"></a>"
   ]
  },
  {
   "cell_type": "code",
   "execution_count": 89,
   "id": "b80d549b-be4e-4cc6-91c3-223a8fb1c1b1",
   "metadata": {},
   "outputs": [
    {
     "name": "stdout",
     "output_type": "stream",
     "text": [
      "['d', 'e', 'f', 'g', 'h', 'i', 'j', 'k', 'l', 'm']\n",
      "__________________________________________________\n",
      "[0:10:2]->['d', 'f', 'h', 'j', 'l']\n",
      "[::3]->['d', 'g', 'j', 'm']\n",
      "[9:3:-2]->['m', 'k', 'i']\n",
      "[20:3:-2]->['m', 'k', 'i']\n",
      "[7::-2]->['k', 'i', 'g', 'e']\n",
      "[:3:-2]->['m', 'k', 'i']\n"
     ]
    }
   ],
   "source": [
    "print(lst_s)\n",
    "print(\"_\"*50)\n",
    "print(\"[0:10:2]->{}\".format(lst_s[0:10:2]))\n",
    "print(\"[::3]->{}\".format(lst_s[::3]))\n",
    "print(\"[9:3:-2]->{}\".format(lst_s[9:3:-2]))\n",
    "print(\"[20:3:-2]->{}\".format(lst_s[20:3:-2]))\n",
    "print(\"[7::-2]->{}\".format(lst_s[7::-2]))\n",
    "print(\"[:3:-2]->{}\".format(lst_s[:3:-2]))"
   ]
  },
  {
   "cell_type": "markdown",
   "id": "66f2e300-b087-491c-a461-34c7f50698f9",
   "metadata": {},
   "source": [
    "* 元素赋值+分片赋值+删除元素+列表相加+列表的乘法"
   ]
  },
  {
   "cell_type": "code",
   "execution_count": 90,
   "id": "09ab6ff1-d670-43d4-95e2-9b7ef87ee143",
   "metadata": {},
   "outputs": [
    {
     "name": "stdout",
     "output_type": "stream",
     "text": [
      "['d', 'e', 'f', 'g', 'h', 'i', 'j', 'k', 'l', 'm']\n",
      "__________________________________________________\n",
      "lst_s[5]=99->['d', 'e', 'f', 'g', 'h', 99, 'j', 'k', 'l', 'm']\n",
      "lst_s+[None]*6->['d', 'e', 'f', 'g', 'h', 99, 'j', 'k', 'l', 'm', None, None, None, None, None, None]\n",
      "lst_none[13]=2015->['d', 'e', 'f', 'g', 'h', 99, 'j', 'k', 'l', 'm', None, None, None, 2015, None, None]\n",
      "lst_none[-6:-3]=list(range(100,104,2))->['d', 'e', 'f', 'g', 'h', 99, 'j', 'k', 'l', 'm', 100, 102, 2015, None, None]\n",
      "lst_none[1:1]=[0,0,0,12]->['d', 0, 0, 0, 12, 'e', 'f', 'g', 'h', 99, 'j', 'k', 'l', 'm', 100, 102, 2015, None, None]\n",
      "del lst_none[-2:]->['d', 0, 0, 0, 12, 'e', 'f', 'g', 'h', 99, 'j', 'k', 'l', 'm', 100, 102, 2015]\n"
     ]
    }
   ],
   "source": [
    "print(lst_s)\n",
    "print(\"_\"*50)\n",
    "lst_s[5]=99 #元素赋值\n",
    "print(\"lst_s[5]=99->{}\".format(lst_s))\n",
    "lst_none=lst_s+[None]*6\n",
    "print(\"lst_s+[None]*6->{}\".format(lst_none))\n",
    "lst_none[13]=2015\n",
    "print(\"lst_none[13]=2015->{}\".format(lst_none))\n",
    "lst_none[-6:-3]=list(range(100,104,2)) #分片赋值\n",
    "print(\"lst_none[-6:-3]=list(range(100,104,2))->{}\".format(lst_none))\n",
    "lst_none[1:1]=[0,0,0,12]\n",
    "print(\"lst_none[1:1]=[0,0,0,12]->{}\".format(lst_none))\n",
    "del lst_none[-2:] #删除元素\n",
    "print(\"del lst_none[-2:]->{}\".format(lst_none))"
   ]
  },
  {
   "cell_type": "markdown",
   "id": "cde83b40-ce3a-4c24-afad-e202b56dd2b0",
   "metadata": {},
   "source": [
    "* 列表的方法\n",
    "\n",
    "方法和函数是python语言编程中重要的两个概念，函数的表达方法是function(object)，function代表着将要执行的动作，object则是被执行的对象，例如list()是构建列表的函数，range()是构建区间的函数。方法实质上也是一种函数，只是不同对象具有不同的方法，方法表达的方式为object.method(item)，object为具有method方法的对象，可以是列表、字符串、序列等任何python中的对象，item为在method方法下操作的项值。\n",
    "\n",
    "<a href=\"\"><img src=\"./imgs/006.png\" height=\"auto\" width=\"auto\" title=\"caDesign\"></a>\n",
    "\n",
    "> 函数和类在后文"
   ]
  },
  {
   "cell_type": "code",
   "execution_count": 91,
   "id": "801acfd6-9e92-44b9-a796-d87d37f562c2",
   "metadata": {},
   "outputs": [
    {
     "name": "stdout",
     "output_type": "stream",
     "text": [
      "['d', 'e', 'f', 'g', 'h']\n",
      "__________________________________________________\n",
      "lst_s_2.append(99)->['d', 'e', 'f', 'g', 'h', 99]\n",
      "lst_s_2.append(list(range(50,80,5)))->['d', 'e', 'f', 'g', 'h', 99, [50, 55, 60, 65, 70, 75]]\n",
      "lst_s_2.extend(lst_spechars)->['d', 'e', 'f', 'g', 'h', 99, [50, 55, 60, 65, 70, 75], '*', ')', '*']\n",
      "lst_s_2.count('*')=2\n",
      "lst_s_2.index('e')=1\n",
      "lst_s_2.insert(2,[1000,1200,1500])->['d', 'e', [1000, 1200, 1500], 'f', 'g', 'h', 99, [50, 55, 60, 65, 70, 75], '*', ')', '*']\n",
      "lst_s_2.pop(7)_popup->[50, 55, 60, 65, 70, 75]\n",
      "lst_s_2.pop(7)_retention->['d', 'e', [1000, 1200, 1500], 'f', 'g', 'h', 99, '*', ')', '*']\n",
      "lst_s_2.remove('*')_retention->['d', 'e', [1000, 1200, 1500], 'f', 'g', 'h', 99, ')', '*']\n",
      "list_n_2.sort()->[2, 3, 4, 6, 42, 95]\n"
     ]
    }
   ],
   "source": [
    "lst_s_2=list(map(chr,range(100,105)))\n",
    "print(lst_s_2)\n",
    "print(\"_\"*50)\n",
    "lst_s_2.append(99)\n",
    "print(\"lst_s_2.append(99)->{}\".format(lst_s_2))\n",
    "lst_s_2.append(list(range(50,80,5)))\n",
    "print(\"lst_s_2.append(list(range(50,80,5)))->{}\".format(lst_s_2))\n",
    "lst_spechars=['*',')','*']\n",
    "lst_s_2.extend(lst_spechars)\n",
    "print(\"lst_s_2.extend(lst_spechars)->{}\".format(lst_s_2))\n",
    "print(\"lst_s_2.count('*')={}\".format(lst_s_2.count('*')))\n",
    "print(\"lst_s_2.index('e')={}\".format(lst_s_2.index('e')))\n",
    "lst_s_2.insert(2,[1000,1200,1500])\n",
    "print(\"lst_s_2.insert(2,[1000,1200,1500])->{}\".format(lst_s_2))\n",
    "print(\"lst_s_2.pop(7)_popup->{}\".format(lst_s_2.pop(7)))\n",
    "print(\"lst_s_2.pop(7)_retention->{}\".format(lst_s_2))\n",
    "lst_s_2.remove('*')\n",
    "print(\"lst_s_2.remove('*')_retention->{}\".format(lst_s_2))\n",
    "list_n_2=[2,42,6,95,4,3]\n",
    "list_n_2.sort()\n",
    "print(\"list_n_2.sort()->{}\".format(list_n_2))"
   ]
  },
  {
   "cell_type": "markdown",
   "id": "f8c263a8-f9b4-404f-a849-2dff136bbd70",
   "metadata": {},
   "source": [
    "### 3.3.3 tuple\n",
    "元组和列表类似，只是元组不能够修改，但是可以提取项值。元组的语法为tuple=(value1,value2,value3,..)，用小括号括起，中间与列表一样由“，”号隔开。最后也需要点逗号。"
   ]
  },
  {
   "cell_type": "code",
   "execution_count": 99,
   "id": "49885aa3-b755-485a-8f86-e907c6bf0ea1",
   "metadata": {},
   "outputs": [
    {
     "name": "stdout",
     "output_type": "stream",
     "text": [
      "tuple_1=2,3,5,->(2, 3, 5)\n",
      "3*(20*3,)->(60, 60, 60)\n",
      "tuple((5,8,9))->(5, 8, 9)\n",
      "tuple([5,8,9])->(5, 8, 9)\n"
     ]
    }
   ],
   "source": [
    "tuple_1=2,3,5,\n",
    "print(\"tuple_1=2,3,5,->{}\".format(tuple_1))\n",
    "print(\"3*(20*3,)->{}\".format(3*(20*3,)))\n",
    "print(\"tuple((5,8,9))->{}\".format(tuple((5,8,9)))) #用()\n",
    "print(\"tuple([5,8,9])->{}\".format(tuple([5,8,9]))) #用[]"
   ]
  },
  {
   "cell_type": "markdown",
   "id": "89d1eef1-9b38-472e-b085-d2229c3db509",
   "metadata": {},
   "source": [
    "### 3.3.4 dict\n",
    "字典是Python中另一种数据结构，语法结构为dictionary={ke0:value0,key1:value1,key2:value2,...}，由大括号包含的多个键（Key）：值（Value）对，直接用“,\"逗号隔开，键/值对之间用\":\"冒号隔开。键和值可以是任何类型的数据，例如数字、字符串、元组，而每一组键/值并没有固定的顺序，这样只需要考虑使用键寻找值的方法，而不用像列表一样计算项值位置的索引值再提取项值。\n",
    "\n",
    "<a href=\"\"><img src=\"./imgs/007.png\" height=\"auto\" width=\"auto\" title=\"caDesign\"></a>\n",
    "\n",
    "* 使用dict()函数建立字典"
   ]
  },
  {
   "cell_type": "code",
   "execution_count": 123,
   "id": "a8c07f1b-c82f-4c62-9dc9-167202ca8992",
   "metadata": {},
   "outputs": [
    {
     "name": "stdout",
     "output_type": "stream",
     "text": [
      "items->[(0, [0, 1, 2, 3, 4]), (1, [[160, 154, 177]]), (2, 'python')]\n",
      "dic=dict(items)->{0: [0, 1, 2, 3, 4], 1: [[160, 154, 177]], 2: 'python'}\n",
      "dic[1]->[[160, 154, 177]]\n"
     ]
    }
   ],
   "source": [
    "import random\n",
    "items=[(0,[i for i in range(5)]),(1,[random.sample(list(range(100,200,1)),3)]),(2,'python')] #[i for i in range(5)] 为列表推导式 list comprehension/derivation\n",
    "print(\"items->{}\".format(items))\n",
    "dic=dict(items)\n",
    "print(\"dic=dict(items)->{}\".format(dic))\n",
    "print(\"dic[1]->{}\".format(dic[1]))"
   ]
  },
  {
   "cell_type": "markdown",
   "id": "23bc63f0-2f7e-424d-a0ce-ad7bca93c7cf",
   "metadata": {},
   "source": [
    "* 字典的基本操作"
   ]
  },
  {
   "cell_type": "code",
   "execution_count": 124,
   "id": "a76468c0-abb9-42ec-95fd-bf76e54ee6df",
   "metadata": {},
   "outputs": [
    {
     "name": "stdout",
     "output_type": "stream",
     "text": [
      "len(dic)->3\n",
      "dic[3]=(random.random(),random.uniform(200,300))->{0: [0, 1, 2, 3, 4], 1: [[160, 154, 177]], 2: 'python', 3: (0.027748392659592946, 220.63978785754304)}\n",
      "del dic[1]->{0: [0, 1, 2, 3, 4], 2: 'python', 3: (0.027748392659592946, 220.63978785754304)}\n",
      "3 in dic->True\n",
      "5 in dic->False\n",
      "dic.keys()->dict_keys([0, 2, 3])\n",
      "dic.values()->dict_values([[0, 1, 2, 3, 4], 'python', (0.027748392659592946, 220.63978785754304)])\n",
      "dic.items()->dict_items([(0, [0, 1, 2, 3, 4]), (2, 'python'), (3, (0.027748392659592946, 220.63978785754304))])\n",
      "__________________________________________________\n",
      "list(dic.keys())->[0, 2, 3]\n"
     ]
    }
   ],
   "source": [
    "print(\"len(dic)->{}\".format(len(dic)))\n",
    "dic[3]=(random.random(),random.uniform(200,300))\n",
    "print(\"dic[3]=(random.random(),random.uniform(200,300))->{}\".format(dic))\n",
    "del dic[1]\n",
    "print(\"del dic[1]->{}\".format(dic))\n",
    "print(\"3 in dic->{}\".format(3 in dic))\n",
    "print(\"5 in dic->{}\".format(5 in dic))\n",
    "print(\"dic.keys()->{}\".format(dic.keys())) #应该放在字典的方法一节里\n",
    "print(\"dic.values()->{}\".format(dic.values()))\n",
    "print(\"dic.items()->{}\".format(dic.items()))\n",
    "print(\"_\"*50)\n",
    "print(\"list(dic.keys())->{}\".format(list(dic.keys())))"
   ]
  },
  {
   "cell_type": "code",
   "execution_count": 126,
   "id": "c0990fa0-f25d-4ace-afd7-0c536eeb5d2b",
   "metadata": {},
   "outputs": [
    {
     "name": "stdout",
     "output_type": "stream",
     "text": [
      "0 (0, [0, 1, 2, 3, 4])\n",
      "1 (2, 'python')\n",
      "2 (3, (0.027748392659592946, 220.63978785754304))\n"
     ]
    }
   ],
   "source": [
    "for k,v in enumerate(dic.items()): #for循环在后文\n",
    "    print(k,v)"
   ]
  },
  {
   "cell_type": "markdown",
   "id": "a3b183de-d85e-45a4-9f2c-55e5123abb72",
   "metadata": {},
   "source": [
    "* 字典的方法"
   ]
  },
  {
   "cell_type": "code",
   "execution_count": 163,
   "id": "c82bd35f-ff47-4822-9793-7fa9e0d4722f",
   "metadata": {},
   "outputs": [
    {
     "name": "stdout",
     "output_type": "stream",
     "text": [
      "lst_A=[6, 9, 12, 15, 18],lst_B=[100, 115, 130, 145]\n",
      "dic_2={0: [6, 9, 12, 15, 18], 1: [100, 115, 130, 145]}\n",
      "__________________________________________________\n",
      "dic_assignment={0: [6, 9, 12, 15, 18], 1: [100, 115, 130, 145]}\n",
      "dic_2.clear()->{}\n",
      "dic_assignment={}\n",
      "dic_2[5]=list(range(1,9,2))->{5: [1, 3, 5, 7]}\n",
      "dic_copy=dic_2.copy()->{5: [1, 3, 5, 7]}\n",
      "dic_2[8]=[5,7]->{5: [1, 3, 5, 7], 8: [5, 7]}\n",
      "dic_copy={5: [1, 3, 5, 7]}\n",
      "dic_copy[5].remove(5)->{5: [1, 3, 7]}\n",
      "dic_copy.setdefault(6,[77,99])->{5: [1, 3, 7], 6: [77, 99]}\n",
      "dic_2.pop(5)->{8: [5, 7]}\n",
      "dic_update={8: [5, 7, 6, 3, 2], 9: [3, 2, 33, 55, 66]}\n",
      "dic_2.update(dic_update->{8: [5, 7, 6, 3, 2], 9: [3, 2, 33, 55, 66]}\n",
      "dic_2.get(9)->[3, 2, 33, 55, 66]\n",
      "dic_2.popitem()->{8: [5, 7, 6, 3, 2]}\n",
      "dic_3={}.fromkeys([0,1,2,3,4,'A'])->{0: None, 1: None, 2: None, 3: None, 4: None, 'A': None}\n"
     ]
    }
   ],
   "source": [
    "lst_A=list(range(6,20,3))\n",
    "lst_B=list(range(100,150,15))\n",
    "print(\"lst_A={},lst_B={}\".format(lst_A,lst_B))\n",
    "dic_2={0:lst_A,1:lst_B}\n",
    "print(\"dic_2={}\".format(dic_2))\n",
    "print(\"_\"*50)\n",
    "dic_assignment=dic_2\n",
    "print(\"dic_assignment={}\".format(dic_assignment))\n",
    "dic_2.clear()\n",
    "print(\"dic_2.clear()->{}\".format(dic_2))\n",
    "print(\"dic_assignment={}\".format(dic_assignment))\n",
    "dic_2[5]=list(range(1,9,2))\n",
    "print(\"dic_2[5]=list(range(1,9,2))->{}\".format(dic_2))\n",
    "dic_copy=dic_2.copy()\n",
    "print(\"dic_copy=dic_2.copy()->{}\".format(dic_copy))\n",
    "dic_2[8]=[5,7]\n",
    "print(\"dic_2[8]=[5,7]->{}\".format(dic_2))\n",
    "print(\"dic_copy={}\".format(dic_copy))\n",
    "dic_copy[5].remove(5)\n",
    "print(\"dic_copy[5].remove(5)->{}\".format(dic_copy))\n",
    "dic_copy.setdefault(6,[77,99]) #返回指定键的值，如果不存在该键，则字典增加新的键/值对\n",
    "print(\"dic_copy.setdefault(6,[77,99])->{}\".format(dic_copy))\n",
    "dic_2.pop(5) #移除指定键/值，并返回该值\n",
    "print(\"dic_2.pop(5)->{}\".format(dic_2))\n",
    "dic_update={8:[5,7,6,3,2],9:[3,2,33,55,66]}\n",
    "print(\"dic_update={}\".format(dic_update))\n",
    "dic_2.update(dic_update) #更新字典\n",
    "print(\"dic_2.update(dic_update->{}\".format(dic_2))\n",
    "print(\"dic_2.get(9)->{}\".format(dic_2.get(9)))\n",
    "dic_2.popitem() #随即弹出一对键/值，并在该字典中移除\n",
    "print(\"dic_2.popitem()->{}\".format(dic_2))\n",
    "\n",
    "dic_3={}.fromkeys([0,1,2,3,4,'A']) #给定键，建立值为空的字典\n",
    "print(\"dic_3={}\"+\".fromkeys([0,1,2,3,4,'A'])->{}\".format(dic_3)) #找下escape characters 脱字符"
   ]
  },
  {
   "cell_type": "markdown",
   "id": "2aa2d72c-6ebe-4504-8e69-85c5b77a7288",
   "metadata": {},
   "source": [
    "> 最好分组记忆\n",
    "\n",
    "d.keys()+d.values()+d.items()\n",
    "\n",
    "d.get()+d.setdefault()\n",
    "\n",
    "d.pop()+d.popitem()\n",
    "\n",
    "d.copy()\n",
    "\n",
    "d.update()\n",
    "\n",
    "d.fromkeys()"
   ]
  },
  {
   "cell_type": "markdown",
   "id": "2d7c248c-1291-4b95-bbcd-5ed5d1a52b7a",
   "metadata": {},
   "source": [
    "### 3.3.5 string-基础\n",
    "\n",
    "* 常用方法"
   ]
  },
  {
   "cell_type": "code",
   "execution_count": 199,
   "id": "c32161a5-0aa7-4410-8e01-5f9281ed90e0",
   "metadata": {},
   "outputs": [
    {
     "name": "stdout",
     "output_type": "stream",
     "text": [
      "lst_s_3=list(\"Hello Python!\")->['H', 'e', 'l', 'l', 'o', ' ', 'P', 'y', 't', 'h', 'o', 'n', '!']\n",
      "\"Hellow\"+\" Python!\"->Hellow Python!\n",
      "\"+\".join(str(123456))->1+2+3+4+5+6\n",
      "len(\"Hellow Python!\")->14\n",
      "coordinates.split(\",\")->['120.132007', '30.300508', '9.7']\n",
      "eval(coordinates)->(120.132007, 30.300508, 9.7)\n",
      "\"Hello Python!\".lower()->hello python!\n",
      "\"Hello Python!\".upper()->HELLO PYTHON!\n",
      "\"Hello Python!\"[6:]->Python!\n",
      "\"    Hello Python!    \".strip()->Hello Python!\n",
      "\"Hello Python!\".replace(\"Python\",\"Grasshopper\")->Hello Grasshopper!\n",
      "hello_lst.sort()>[' ', '!', 'H', 'P', 'e', 'h', 'l', 'l', 'n', 'o', 'o', 't', 'y']\n",
      "\"Hello Python!\".find(\"Py\")->6\n"
     ]
    }
   ],
   "source": [
    "lst_s_3=list(\"Hello Python!\")\n",
    "print(\"lst_s_3=list(\\\"Hello Python!\\\")->{}\".format(lst_s_3)) #\"\\\" escape character\n",
    "print(\"\\\"Hellow\\\"+\\\" Python!\\\"->{}\".format(\"Hellow\"+\" Python!\"))\n",
    "print(\"\\\"+\\\".join(str(123456))->{}\".format(\"+\".join(str(123456))))\n",
    "print(\"len(\\\"Hellow Python!\\\")->{}\".format(len(\"Hellow Python!\")))\n",
    "coordinates=\"120.132007,30.300508,9.7\"\n",
    "print(\"coordinates.split(\\\",\\\")->{}\".format(coordinates.split(\",\")))\n",
    "print(\"eval(coordinates)->{}\".format(eval(coordinates))) #通常用eval()方法将字符串，转换为对应数值形式；\n",
    "print(\"\\\"Hello Python!\\\".lower()->{}\".format(\"Hello Python!\".lower()))\n",
    "print(\"\\\"Hello Python!\\\".upper()->{}\".format(\"Hello Python!\".upper()))\n",
    "print(\"\\\"Hello Python!\\\"[6:]->{}\".format(\"Hello Python!\"[6:]))\n",
    "print(\"\\\"    Hello Python!    \\\".strip()->{}\".format(\"    Hello Python!    \".strip()))\n",
    "print(\"\\\"Hello Python!\\\".replace(\\\"Python\\\",\\\"Grasshopper\\\")->{}\".format(\"Hello Python!\".replace(\"Python\",\"Grasshopper\")))\n",
    "hello_lst=list(\"Hello Python!\")\n",
    "hello_lst.sort()\n",
    "print(\"hello_lst.sort()>{}\".format(hello_lst))\n",
    "print(\"\\\"Hello Python!\\\".find(\\\"Py\\\")->{}\".format(\"Hello Python!\".find(\"Py\")))"
   ]
  },
  {
   "cell_type": "markdown",
   "id": "16a7efba-306a-4bb4-a5f9-23ee1a55076f",
   "metadata": {},
   "source": [
    "* 字符串格式化\n",
    "\n",
    "%s称为转换说明符(conversion specifier)\n",
    "\n",
    "<a href=\"\"><img src=\"./imgs/008.png\" height=\"auto\" width=\"auto\" title=\"caDesign\"></a>"
   ]
  },
  {
   "cell_type": "code",
   "execution_count": 202,
   "id": "85dcb8ce-d31f-410e-b5ae-9111aed6d8ae",
   "metadata": {},
   "outputs": [
    {
     "name": "stdout",
     "output_type": "stream",
     "text": [
      "new_str=format_str % values->Hello,Python and Grasshopper!\n",
      "new_str_2=format_str_2 % (pi,3.1415926)->Pi with three decimals:3.142,and enter a value with percent sign:3.14 %\n"
     ]
    }
   ],
   "source": [
    "format_str=\"Hello,%s and %s!\"\n",
    "values=(\"Python\",\"Grasshopper\")\n",
    "new_str=format_str % values\n",
    "print(\"new_str=format_str % values->{}\".format(new_str))\n",
    "\n",
    "format_str_2=\"Pi with three decimals:%.3f,and enter a value with percent sign:%.2f %%\" #如果字符串里包含实际的%，则通过%%即两个百分号进行转义\n",
    "\n",
    "from math import pi\n",
    "new_str_2=format_str_2 % (pi,3.1415926)\n",
    "print(\"new_str_2=format_str_2 % (pi,3.1415926)->{}\".format(new_str_2))"
   ]
  },
  {
   "cell_type": "markdown",
   "id": "1aa651ca-7e9a-425f-98dd-341a7bffc466",
   "metadata": {},
   "source": [
    "除了转换说明符%外，可以增加转换标志，-表示左对齐，+表示在转换值之前要加上正负号，“”空白字符，表示正数之前保留空格，0表示转换值若位数不够则用0填充；如果格式化字符串中包含*，那么可以在值元组中设置宽度；(.)点号加数字表示小数点后的位数精度，如果转换的是字符串，那么该数字则表示最大字段宽度。转换类型参看表：\n",
    "\n",
    "\n",
    "| 转换类型  | 含义                             |\n",
    "|-------|--------------------------------|\n",
    "| d,i   | 带符号的十进制整数                      |\n",
    "| o     | 不带符号的八进制                       |\n",
    "| u     | 不带符号的十进制                       |\n",
    "| x     | 不带符号的十六进制（小写）                  |\n",
    "| X     | 不带符号的十六进制（大写）                  |\n",
    "| e     |  科学计数法表示的浮点数（小写）               |\n",
    "| E     | 科学计数法表示的浮点数（大写）                |\n",
    "| f,F   | 十进制浮点数                         |\n",
    "| g     | 如果指数大于-4或者小于精度值则和ｅ相同，其它情况与ｆ相同  |\n",
    "| G     | 如果指数大于-4或者小于精度值则和E相同，其它情况与F相同  |\n",
    "| C     | 单字符（接受整数或者单字符字符串）              |\n",
    "| r     | 字符串（使用repr转换任意Python对象)        |\n",
    "| s     | 字符串（使用str转换任意Python对象)         |"
   ]
  },
  {
   "cell_type": "code",
   "execution_count": 203,
   "id": "99dc7b3d-4ff7-44b4-930a-ad9bdb6704eb",
   "metadata": {},
   "outputs": [
    {
     "name": "stdout",
     "output_type": "stream",
     "text": [
      "  3.141593,      3.14,3.14,Hello,Hello,52,34,3.141593\n"
     ]
    }
   ],
   "source": [
    "format_str_3=\"%10f,%10.2f,%.2f,%.5s,%.*s,%d,%x,%f\"\n",
    "new_str_3=format_str_3%(pi,pi,pi,\"Hello Python!\",5,\"Hello Python!\",52,52,pi)\n",
    "print(\"{}\".format(new_str_3))"
   ]
  },
  {
   "cell_type": "markdown",
   "id": "18cc5abf-8fbc-4641-94ab-f963f7699d00",
   "metadata": {},
   "source": [
    "* Template()函数-模板字符串+$+st.substitute()"
   ]
  },
  {
   "cell_type": "code",
   "execution_count": 214,
   "id": "4841cc65-3fde-4d98-a236-c44c29848def",
   "metadata": {},
   "outputs": [
    {
     "name": "stdout",
     "output_type": "stream",
     "text": [
      "s_1=s_template_1.substitute(x=\"Python\")->Python,glorious,Python!\n",
      "s_2=s_template_2.substitute(x=\"py\")->python is amazing!\n",
      "substitute_dict={'x': 'Python', 'y': 'Grasshopper'}\n",
      "s_3=s_template_3.substitute(substitute_dict)->Python and Grasshopper are both amazing!\n"
     ]
    }
   ],
   "source": [
    "from string import Template\n",
    "s_template_1=Template(\"$x,glorious,$x!\")\n",
    "s_1=s_template_1.substitute(x=\"Python\")\n",
    "print(\"s_1=s_template_1.substitute(x=\\\"Python\\\")->{}\".format(s_1))\n",
    "s_template_2=Template(\"${x}thon is amazing!\")\n",
    "s_2=s_template_2.substitute(x=\"py\")\n",
    "print(\"s_2=s_template_2.substitute(x=\\\"py\\\")->{}\".format(s_2))\n",
    "s_template_3=Template(\"$x and $y are both amazing!\")\n",
    "substitute_dict=dict([('x','Python'),('y','Grasshopper')])\n",
    "print(\"substitute_dict={}\".format(substitute_dict))\n",
    "s_3=s_template_3.substitute(substitute_dict)\n",
    "print(\"s_3=s_template_3.substitute(substitute_dict)->{}\".format(s_3))"
   ]
  },
  {
   "cell_type": "markdown",
   "id": "f96440e3-c74d-45db-a0bc-a8495c6feae1",
   "metadata": {},
   "source": [
    "### 3.3.6 string-re(regular expression)正则表达式\n",
    "\n",
    "字符串处理常常用到标准库模块中的re(regular expression)正则表达式，正则表达式非常强大，可以处理更复杂的字符串，其本质是可以匹配文本片断的模式。最简单的正则表达式是普通字符串，即大多数字母和字符一般都会和自身匹配，例如正则表达式'python'可以匹配字符串'python'。"
   ]
  },
  {
   "cell_type": "code",
   "execution_count": 220,
   "id": "cac7d4b7-3ece-4afb-8339-36c41b83a5ee",
   "metadata": {},
   "outputs": [
    {
     "name": "stdout",
     "output_type": "stream",
     "text": [
      "re.findall(pattern_1,text)->['Python']\n",
      "re.findall(pattern_2,text)->[]\n"
     ]
    }
   ],
   "source": [
    "import re\n",
    "pattern_1='Python'\n",
    "text=\"Hello Python!\"\n",
    "print(\"re.findall(pattern_1,text)->{}\".format(re.findall(pattern_1,text)))\n",
    "pattern_2='python'\n",
    "print(\"re.findall(pattern_2,text)->{}\".format(re.findall(pattern_2,text)))"
   ]
  },
  {
   "cell_type": "markdown",
   "id": "d19cd856-9c17-4723-be05-5acb3a1c6622",
   "metadata": {},
   "source": [
    "* 字符匹配-模式语法\n",
    "\n",
    "<a href=\"\"><img src=\"./imgs/009.jpg\" height=\"auto\" width=\"auto\" title=\"caDesign\"></a><a href=\"\"><img src=\"./imgs/010.jpg\" height=\"auto\" width=\"auto\" title=\"caDesign\"></a>\n",
    "\n",
    "**(.)点号**"
   ]
  },
  {
   "cell_type": "code",
   "execution_count": 226,
   "id": "ae80c4ef-3cc3-4339-ade2-3d433b1b106d",
   "metadata": {},
   "outputs": [
    {
     "name": "stdout",
     "output_type": "stream",
     "text": [
      "re.findall('.ython','Hello Python!')->['Python']\n",
      "re.findall('.ython','Hello gython!')->['gython']\n",
      "re.findall('.ython','Hello gPython!')->['Python']\n",
      "re.findall('.ython','Hello Pthon!')->[]\n"
     ]
    }
   ],
   "source": [
    "print(\"re.findall('.ython','Hello Python!')->{}\".format(re.findall('.ython','Hello Python!')))\n",
    "print(\"re.findall('.ython','Hello gython!')->{}\".format(re.findall('.ython','Hello gython!')))\n",
    "print(\"re.findall('.ython','Hello gPython!')->{}\".format(re.findall('.ython','Hello gPython!')))\n",
    "print(\"re.findall('.ython','Hello Pthon!')->{}\".format(re.findall('.ython','Hello Pthon!')))"
   ]
  },
  {
   "cell_type": "markdown",
   "id": "3ae9134d-bfd9-442e-9891-2e0ed50893bd",
   "metadata": {},
   "source": [
    "**\\* + ？ {m,n}与r’string’**"
   ]
  },
  {
   "cell_type": "code",
   "execution_count": 237,
   "id": "be763c09-d63c-4eb3-a24c-407e991267ba",
   "metadata": {},
   "outputs": [
    {
     "name": "stdout",
     "output_type": "stream",
     "text": [
      "re.findall(r'w?cadesign\\.cn,w+\\.cadesign\\.cn','cadesign.cn,www.cadesign.cn')->['cadesign.cn,www.cadesign.cn']\n",
      "re.findall(r'w{2}\\.cadesign\\.cn','www.cadesign.cn')->['ww.cadesign.cn']\n",
      "re.findall(r'w{1,3}\\.cadesign\\.cn','www.cadesign.cn')->['www.cadesign.cn']\n"
     ]
    }
   ],
   "source": [
    "print(\"re.findall(r'w?cadesign\\.cn,w+\\.cadesign\\.cn','cadesign.cn,www.cadesign.cn')->{}\".format(re.findall(r'w?cadesign\\.cn,w+\\.cadesign\\.cn','cadesign.cn,www.cadesign.cn')))\n",
    "print(\"re.findall(r'w{2}\"+\"\\.cadesign\\.cn','www.cadesign.cn')->{}\".format(re.findall(r'w{2}\\.cadesign\\.cn','www.cadesign.cn')))\n",
    "print(\"re.findall(r'w{1,3}\"+\"\\.cadesign\\.cn','www.cadesign.cn')->{}\".format(re.findall(r'w{1,3}\\.cadesign\\.cn','www.cadesign.cn')))"
   ]
  },
  {
   "cell_type": "markdown",
   "id": "fb39c63f-1bd7-4dd2-9671-da3e6d29ae28",
   "metadata": {},
   "source": [
    "**[] (^)**"
   ]
  },
  {
   "cell_type": "code",
   "execution_count": 241,
   "id": "f4bfd84b-27c3-4d7e-9f06-fa1b95763f42",
   "metadata": {},
   "outputs": [
    {
     "name": "stdout",
     "output_type": "stream",
     "text": [
      "re.findall('[Py]*thon!','Hello Python!')->['Python!']\n",
      "re.findall('[Py]*thon!','Hello Pthon!')->['Pthon!']\n",
      "re.findall('[Py]*thon!','Hello ython!')->['ython!']\n",
      "re.findall('[Py]*thon!','Hello ython!')->['thon!']\n"
     ]
    }
   ],
   "source": [
    "print(\"re.findall('[Py]*thon!','Hello Python!')->{}\".format(re.findall('[Py]*thon!','Hello Python!')))\n",
    "print(\"re.findall('[Py]*thon!','Hello Pthon!')->{}\".format(re.findall('[Py]*thon!','Hello Pthon!')))\n",
    "print(\"re.findall('[Py]*thon!','Hello ython!')->{}\".format(re.findall('[Py]*thon!','Hello ython!')))\n",
    "print(\"re.findall('[Py]*thon!','Hello ython!')->{}\".format(re.findall('[Py]*thon!','Hello thon!')))"
   ]
  },
  {
   "cell_type": "markdown",
   "id": "0633425e-8858-47af-80ef-23f0afcbd756",
   "metadata": {},
   "source": [
    "**(|)管道符号**"
   ]
  },
  {
   "cell_type": "code",
   "execution_count": 244,
   "id": "4ae44d36-dd6e-41ff-b3dc-3e9d7b3d02ff",
   "metadata": {},
   "outputs": [
    {
     "name": "stdout",
     "output_type": "stream",
     "text": [
      "re.findall('python|grasshopper','python')->['python']\n",
      "re.findall('python|grasshopper','grasshopper')->['grasshopper']\n",
      "re.findall('python|grasshopper','grasshopper and python')->['grasshopper', 'python']\n"
     ]
    }
   ],
   "source": [
    "print(\"re.findall('python|grasshopper','python')->{}\".format(re.findall('python|grasshopper','python')))\n",
    "print(\"re.findall('python|grasshopper','grasshopper')->{}\".format(re.findall('python|grasshopper','grasshopper')))\n",
    "print(\"re.findall('python|grasshopper','grasshopper and python')->{}\".format(re.findall('python|grasshopper','grasshopper and python')))"
   ]
  },
  {
   "cell_type": "markdown",
   "id": "4ae8ae07-16b1-4a74-95b2-73a34ea76977",
   "metadata": {},
   "source": [
    "**\\d \\D**"
   ]
  },
  {
   "cell_type": "code",
   "execution_count": 248,
   "id": "1bf5c8d8-32a8-4832-a76d-7aa39807f18a",
   "metadata": {},
   "outputs": [
    {
     "name": "stdout",
     "output_type": "stream",
     "text": [
      "re.findall('\\d','number=10')->['1', '0']\n",
      "re.findall('\\D','number=10')->['n', 'u', 'm', 'b', 'e', 'r', '=']\n",
      "re.findall('[^0-9]','number=10')->['n', 'u', 'm', 'b', 'e', 'r', '=']\n"
     ]
    }
   ],
   "source": [
    "print(\"re.findall('\\d','number=10')->{}\".format(re.findall('\\d','number=10')))\n",
    "print(\"re.findall('\\D','number=10')->{}\".format(re.findall('\\D','number=10')))\n",
    "print(\"re.findall('[^0-9]','number=10')->{}\".format(re.findall('[^0-9]','number=10')))"
   ]
  },
  {
   "cell_type": "markdown",
   "id": "9969fe33-bd95-49a0-a65e-d2acd18d375f",
   "metadata": {},
   "source": [
    "* re模块的方法"
   ]
  },
  {
   "cell_type": "code",
   "execution_count": 260,
   "id": "614bf1fb-ca0c-4120-b279-803b5f0d72a8",
   "metadata": {},
   "outputs": [
    {
     "name": "stdout",
     "output_type": "stream",
     "text": [
      "re.findall('[a-z]','python')->['p', 'y', 't', 'h', 'o', 'n']\n",
      "re.search('[a-z]+','python')-><re.Match object; span=(0, 6), match='python'>\n",
      "re.search('[a-z]+','python')->found it!\n",
      "re.split(',','Hello,,,,,,Python!')->['Hello', '', '', '', '', '', 'Python!']\n",
      "re.sub('Python','Grasshopper','Hello Python!')->Hello Grasshopper!\n",
      "pattern_compile.findall('Hello,,,,,,Python!')->['Python']\n",
      "re.match('p','python')->found it!\n"
     ]
    }
   ],
   "source": [
    "print(\"re.findall('[a-z]','python')->{}\".format(re.findall('[a-z]','python-3.0')))\n",
    "print(\"re.search('[a-z]+','python')->{}\".format(re.search('[a-z]+','python')))\n",
    "if re.search('[a-z]+','python'):\n",
    "    print(\"re.search('[a-z]+','python')->found it!\")\n",
    "print(\"re.split(',','Hello,,,,,,Python!')->{}\".format(re.split(',','Hello,,,,,,Python!')))\n",
    "print(\"re.sub('Python','Grasshopper','Hello Python!')->{}\".format(re.sub('Python','Grasshopper','Hello Python!')))\n",
    "\n",
    "pattern_compile=re.compile('Python')\n",
    "print(\"pattern_compile.findall('Hello,,,,,,Python!')->{}\".format(pattern_compile.findall('Hello,,,,,,Python!')))\n",
    "\n",
    "if re.match('p','python'):\n",
    "    print(\"re.match('p','python')->found it!\")"
   ]
  },
  {
   "cell_type": "code",
   "execution_count": 265,
   "id": "adf447ca-cbe6-49b8-884d-7eac8945a4f6",
   "metadata": {},
   "outputs": [
    {
     "name": "stdout",
     "output_type": "stream",
     "text": [
      "'python'.find('python')->0\n",
      "'python'.find('thon')->2\n",
      "'python'.find('a')->-1\n",
      "'p' in 'python'->True\n"
     ]
    }
   ],
   "source": [
    "print(\"\\'python\\'.find(\\'python\\')->{}\".format('python'.find('python')))\n",
    "print(\"\\'python\\'.find(\\'thon\\')->{}\".format('python'.find('thon')))\n",
    "print(\"\\'python\\'.find(\\'a\\')->{}\".format('python'.find('a')))\n",
    "print(\"\\'p\\' in \\'python\\'->{}\".format('p' in 'python'))"
   ]
  },
  {
   "cell_type": "code",
   "execution_count": 267,
   "id": "33cbaf51-deed-44fc-8dc1-ad276bbecd20",
   "metadata": {},
   "outputs": [
    {
     "name": "stdout",
     "output_type": "stream",
     "text": [
      "'Hello,,,,,,Python!'.split(',')->['Hello', '', '', '', '', '', 'Python!']\n",
      "'Hello Python!'.replace('Python','Grasshopper')->Hello Grasshopper!\n"
     ]
    }
   ],
   "source": [
    "print(\"\\'Hello,,,,,,Python!\\'.split(',')->{}\".format( 'Hello,,,,,,Python!'.split(',')))\n",
    "print(\"\\'Hello Python!\\'.replace(\\'Python\\',\\'Grasshopper\\')->{}\".format( 'Hello Python!'.replace('Python','Grasshopper')))"
   ]
  },
  {
   "cell_type": "markdown",
   "id": "925a2bc8-4c63-4012-b853-bc06a234feba",
   "metadata": {},
   "source": [
    "* 匹配对象和组\n",
    "\n",
    "re.search()和re.match()返回的MatchObject实例包含关于分组内容的信息，和匹配值的位置数据。那么什么是组？组就是放置在圆括号内的子模式，例如模式r'www\\.(.*)\\..{3}'中(.\\*)即为组，组可以并行与嵌套多个，并可以通过m.group()方法返回组，m.start()方法获取组的开始索引值，m.end()则获取结束位置索引值，m.span()返回区间值。"
   ]
  },
  {
   "cell_type": "code",
   "execution_count": 275,
   "id": "5a3a79bf-2bba-4167-877a-1e159bc61c05",
   "metadata": {},
   "outputs": [
    {
     "name": "stdout",
     "output_type": "stream",
     "text": [
      "match_1.gourp(1)->python\n",
      "match_1.start(1)->4\n",
      "match_1.end(1)->10\n",
      "match_1.span(1)->(4, 10)\n",
      "match_2.group(1)->python\n",
      "match_2.group(2)->org\n"
     ]
    }
   ],
   "source": [
    "match_1=re.match(r'www\\.(.*)\\..{3}','www.python.org')\n",
    "print(\"match_1.gourp(1)->{}\".format(match_1.group(1)))\n",
    "print(\"match_1.start(1)->{}\".format(match_1.start(1)))\n",
    "print(\"match_1.end(1)->{}\".format(match_1.end(1)))\n",
    "print(\"match_1.span(1)->{}\".format(match_1.span(1)))\n",
    "match_2=re.match(r'www\\.(.*)\\.(.{3})','www.python.org')\n",
    "print(\"match_2.group(1)->{}\".format(match_2.group(1)))\n",
    "print(\"match_2.group(2)->{}\".format(match_2.group(2)))"
   ]
  },
  {
   "cell_type": "markdown",
   "id": "64888180-8697-4c90-a7c2-81183ad01028",
   "metadata": {},
   "source": [
    "### 3.3.7 array(numpy)\n",
    "\n",
    "### 3.3.8 DataFrame(pandas) | GeoDataFrame(Geopandas)"
   ]
  },
  {
   "cell_type": "markdown",
   "id": "631ba034-dd1c-4a0b-8ab1-32426e3fe530",
   "metadata": {},
   "source": [
    "## 3.4 基本语句\n",
    "### 3.4.1 循环语句\n",
    "\n",
    "* for循环"
   ]
  },
  {
   "cell_type": "code",
   "execution_count": 290,
   "id": "8d1beee8-85f8-4a2d-b39e-a12056da226c",
   "metadata": {},
   "outputs": [
    {
     "name": "stdout",
     "output_type": "stream",
     "text": [
      "lst_1=[29, 31, 33, 35]\n",
      "__________________________________________________\n",
      "for i in lst_1:\n",
      "29\n",
      "31\n",
      "33\n",
      "35\n",
      "for i in range(len(lst_1)):\n",
      "idx=0,val=29\n",
      "idx=1,val=31\n",
      "idx=2,val=33\n",
      "idx=3,val=35\n",
      "++++++++++++++++++++++++++++++++++++++++++++++++++\n",
      "dic_4={'a': 2, 'b': 3, 'c': 6, 'd': 0}\n",
      "__________________________________________________\n",
      "for k in dic_4:\n",
      "a\n",
      "b\n",
      "c\n",
      "d\n",
      "for k,v in dic_4.items():\n",
      "key=a,val=2\n",
      "key=b,val=3\n",
      "key=c,val=6\n",
      "key=d,val=0\n"
     ]
    }
   ],
   "source": [
    "lst_1=list(range(29,37,2))\n",
    "print(\"lst_1={}\".format(lst_1))\n",
    "print(\"_\"*50)\n",
    "print(\"for i in lst_1:\")\n",
    "for i in lst_1:\n",
    "    print(i)\n",
    "print(\"for i in range(len(lst_1)):\")\n",
    "for i in range(len(lst_1)):\n",
    "    print(\"idx={},val={}\".format(i,lst_1[i]))\n",
    "print(\"+\"*50)   \n",
    "dic_4=dict(a=2,b=3,c=6,d=0)\n",
    "print(\"dic_4={}\".format(dic_4))\n",
    "print(\"_\"*50)\n",
    "print(\"for k in dic_4:\")\n",
    "for k in dic_4:\n",
    "    print(k)\n",
    "print(\"for k,v in dic_4.items():\")\n",
    "for k,v in dic_4.items():\n",
    "    print(\"key={},val={}\".format(k,v))"
   ]
  },
  {
   "cell_type": "markdown",
   "id": "f5c57d50-2274-4400-86da-170391b07bb4",
   "metadata": {},
   "source": [
    "* while循环"
   ]
  },
  {
   "cell_type": "code",
   "execution_count": 293,
   "id": "c8601a39-5102-4eb7-8a2b-f1e749006209",
   "metadata": {},
   "outputs": [
    {
     "name": "stdout",
     "output_type": "stream",
     "text": [
      "x=1\n",
      "x=11\n",
      "x=21\n",
      "x=31\n",
      "x=41\n",
      "x=51\n",
      "x=61\n",
      "x=71\n",
      "x=81\n",
      "x=91\n"
     ]
    }
   ],
   "source": [
    "x=1\n",
    "while x<=100:\n",
    "    print(\"x={}\".format(x))\n",
    "    x+=10 #增量赋值; x*=2     "
   ]
  },
  {
   "cell_type": "code",
   "execution_count": 321,
   "id": "b3290655-7472-40c4-952b-03c440ac6f07",
   "metadata": {},
   "outputs": [
    {
     "name": "stdout",
     "output_type": "stream",
     "text": [
      "x=1\n",
      "x=11\n",
      "x=21\n",
      "x=31\n",
      "x=41\n",
      "sys.maxsize=9223372036854775807\n",
      "i=0\n",
      "i=1\n",
      "i=2\n",
      "i=3\n",
      "i=4\n",
      "i=5\n",
      "i=6\n",
      "i=7\n",
      "i=8\n",
      "i=9\n",
      "i=10\n",
      "i=11\n",
      "i=12\n",
      "i=13\n",
      "i=14\n",
      "i=15\n",
      "i=16\n",
      "i=17\n",
      "i=18\n",
      "i=19\n",
      "i=20\n"
     ]
    }
   ],
   "source": [
    "x=1\n",
    "while x<=100:\n",
    "    print(\"x={}\".format(x))\n",
    "    x+=10 \n",
    "    if x>=50:break    \n",
    "    \n",
    "import sys\n",
    "print(\"sys.maxsize={}\".format(sys.maxsize))\n",
    "for i in range(sys.maxsize):\n",
    "    print(\"i={}\".format(i))  #?\n",
    "    i+=10\n",
    "    if i>=30:break"
   ]
  },
  {
   "cell_type": "markdown",
   "id": "6798fb42-2486-4542-bfd3-c16640db97f2",
   "metadata": {},
   "source": [
    "**While True/break语句**"
   ]
  },
  {
   "cell_type": "code",
   "execution_count": 298,
   "id": "a1619e8a-ce31-4bcf-b2c7-8ca0eac17d83",
   "metadata": {},
   "outputs": [
    {
     "name": "stdout",
     "output_type": "stream",
     "text": [
      "elevation_dat[:10]=['43.963,6738.623,313.075 \\n', '43.963,6688.623,330.3 \\n', '43.963,6638.623,343.366 \\n', '43.963,6588.623,355.478 \\n', '43.963,6538.623,365.184 \\n', '43.963,6488.623,362.951 \\n', '43.963,6438.623,339.023 \\n', '43.963,6388.623,313.132 \\n', '43.963,6338.623,304.689 \\n', '43.963,6288.623,304.635 \\n']\n"
     ]
    }
   ],
   "source": [
    "topography_fp='./data/elevation.txt' #在处理GIS时，更多的是使用GeoPandas等处理地理信息的库;另，大数据的存储读取通常用Numpy,(Geo)Pandas提供的方法，以及HDF5(binary data format)。\n",
    "f=open(topography_fp,'r')\n",
    "elevation_dat=[]\n",
    "while True:\n",
    "    line=f.readline()\n",
    "    elevation_dat.append(line)\n",
    "    if not line:break\n",
    "f.close()\n",
    "print(\"elevation_dat[:10]={}\".format(elevation_dat[:10]))"
   ]
  },
  {
   "cell_type": "code",
   "execution_count": 311,
   "id": "1e86f2f1-60e9-4477-8623-69c1c2441800",
   "metadata": {},
   "outputs": [
    {
     "name": "stdout",
     "output_type": "stream",
     "text": [
      "              0         1        2\n",
      "0        43.963  6738.623  313.075\n",
      "1        43.963  6688.623  330.300\n",
      "2        43.963  6638.623  343.366\n",
      "3        43.963  6588.623  355.478\n",
      "4        43.963  6538.623  365.184\n",
      "...         ...       ...      ...\n",
      "14440  5343.963   238.623   31.519\n",
      "14441  5343.963   188.623   31.010\n",
      "14442  5343.963   138.623   30.498\n",
      "14443  5343.963    88.623   29.984\n",
      "14444  5343.963    38.623   29.467\n",
      "\n",
      "[14445 rows x 3 columns]\n"
     ]
    }
   ],
   "source": [
    "import pandas as pd\n",
    "elevation_df=pd.read_csv(topography_fp, delimiter = \",\",header=None) \n",
    "print(elevation_df)"
   ]
  },
  {
   "cell_type": "markdown",
   "id": "40f46ff3-fea1-4d14-a507-a89a45954211",
   "metadata": {},
   "source": [
    "* 迭代的工具\n",
    "\n",
    "**并行迭代**"
   ]
  },
  {
   "cell_type": "code",
   "execution_count": 333,
   "id": "b25567d0-1ecb-48f5-a707-371641f79444",
   "metadata": {},
   "outputs": [
    {
     "name": "stdout",
     "output_type": "stream",
     "text": [
      "zip_lst=zip(lst_a,lst_b)-><zip object at 0x000001DA3FCF16C0>\n",
      "dict(zip_lst)->{0: 'point_a', 1: 'point_b', 2: 'point_c', 3: 'point_d'}\n",
      "0 point_a\n",
      "1 point_b\n",
      "2 point_c\n",
      "3 point_d\n",
      "a=(0, 1, 2, 3),b=('point_a', 'point_b', 'point_c', 'point_d')\n"
     ]
    }
   ],
   "source": [
    "lst_a=[0,1,2,3]\n",
    "lst_b=['point_a','point_b','point_c','point_d']\n",
    "zip_lst=zip(lst_a,lst_b) #The zip() function takes iterables (can be zero or more), aggregates them in a tuple, and returns it.\n",
    "print(\"zip_lst=zip(lst_a,lst_b)->{}\".format(zip_lst))\n",
    "print(\"dict(zip_lst)->{}\".format(dict(zip_lst)))\n",
    "\n",
    "zip_lst=zip(lst_a,lst_b) #迭代对象临时存储，读取完后为空\n",
    "for a,b in zip_lst:\n",
    "    print(a,b)\n",
    "    \n",
    "zip_lst=zip(lst_a,lst_b)\n",
    "a,b=zip(*zip_lst)\n",
    "print(\"a={},b={}\".format(a,b))"
   ]
  },
  {
   "cell_type": "markdown",
   "id": "8f50cb95-9e27-441c-bba7-9838813fffd4",
   "metadata": {},
   "source": [
    "**编号迭代**"
   ]
  },
  {
   "cell_type": "code",
   "execution_count": 339,
   "id": "bbe8a00e-dd6e-431f-ad76-85ccd3a8d0bd",
   "metadata": {},
   "outputs": [
    {
     "name": "stdout",
     "output_type": "stream",
     "text": [
      "dic_4={0: 'point_a', 1: 'point_b', 2: 'point_c', 3: 'point_d'}\n",
      "dict((i,v) for i,v in enumerate(lst_c))->{0: 'point_a', 1: 'point_b', 2: 'point_c', 3: 'point_d'}\n",
      "__________________________________________________\n",
      "0:0,point_a\n",
      "1:1,point_b\n",
      "2:2,point_c\n",
      "3:3,point_d\n"
     ]
    }
   ],
   "source": [
    "lst_c=['point_a','point_b','point_c','point_d']\n",
    "dic_4={}\n",
    "for idx,value in enumerate(lst_c):\n",
    "    dic_4[idx]=value\n",
    "print(\"dic_4={}\".format(dic_4))\n",
    "print(\"dict((i,v) for i,v in enumerate(lst_c))->{}\".format(dict((i,v) for i,v in enumerate(lst_c)))) #list comprehension\n",
    "print(\"_\"*50)\n",
    "for i,(a,b) in enumerate(zip(lst_a,lst_b)):\n",
    "    print('%d:%s,%s'%(i,a,b))"
   ]
  },
  {
   "cell_type": "markdown",
   "id": "586c67f9-6eef-421b-a386-f747f0980223",
   "metadata": {},
   "source": [
    "**list comprehension(列表推导式)**\n",
    "\n",
    "`[expr(val) for val in collection if condition]  /newlist=[expression for item in iterable if condition == True]  | [expression if condition else expression for item in iterable <if condition>]`"
   ]
  },
  {
   "cell_type": "code",
   "execution_count": 352,
   "id": "f9faee7b-c33f-4ba6-adce-18c4ff8d0eb0",
   "metadata": {},
   "outputs": [
    {
     "name": "stdout",
     "output_type": "stream",
     "text": [
      "[x*x for x in range(3,37,5) if x%2==0]->[64, 324, 784]\n",
      "[(x,y) for x in range(3)for y in range(2)]->[(0, 0), (0, 1), (1, 0), (1, 1), (2, 0), (2, 1)]\n",
      "[(x,y) for x,y in zip(range(3),range(2))]->[(0, 0), (1, 1)]\n",
      "[[a for a in range(1,10,3)],2,3,[b for b in range(60,100,7)],[[c for c in range(1000,2000,120)],3,9]]->[[1, 4, 7], 2, 3, [60, 67, 74, 81, 88, 95], [[1000, 1120, 1240, 1360, 1480, 1600, 1720, 1840, 1960], 3, 9]]\n",
      "flatten_lst(nested_list)->[1, 4, 7, 2, 3, 60, 67, 74, 81, 88, 95, 1000, 1120, 1240, 1360, 1480, 1600, 1720, 1840, 1960, 3, 9]\n"
     ]
    }
   ],
   "source": [
    "print(\"[x*x for x in range(3,37,5) if x%2==0]->{}\".format([x*x for x in range(3,37,5) if x%2==0]))\n",
    "print(\"[(x,y) for x in range(3)for y in range(2)]->{}\".format([(x,y) for x in range(3)for y in range(2)]))\n",
    "print(\"[(x,y) for x,y in zip(range(3),range(2))]->{}\".format([(x,y) for x,y in zip(range(3),range(2))]))\n",
    "nested_list=[[a for a in range(1,10,3)],2,3,[b for b in range(60,100,7)],[[c for c in range(1000,2000,120)],3,9]]\n",
    "print(\"[[a for a in range(1,10,3)],2,3,[b for b in range(60,100,7)],[[c for c in range(1000,2000,120)],3,9]]->{}\".format(nested_list)) #嵌套列表推导式\n",
    "\n",
    "flatten_lst=lambda lst: [m for n_lst in lst for m in flatten_lst(n_lst)] if type(lst) is list else [lst] #展平列表常用，可以放置到单独的.py文件中调用。lambda函数后文阐述\n",
    "print(\"flatten_lst(nested_list)->{}\".format(flatten_lst(nested_list)))"
   ]
  },
  {
   "cell_type": "markdown",
   "id": "b3911eb0-b70b-4a75-a495-886a325c08e9",
   "metadata": {},
   "source": [
    "### 3.4.2 条件语句\n",
    "**条件语句模式**\n",
    "\n",
    "```python\n",
    "if expression:\n",
    "    statements\n",
    "elif expression:\n",
    "    statements\n",
    "elif expression:\n",
    "    pass\n",
    "...\n",
    "else:\n",
    "    statements\n",
    "```"
   ]
  },
  {
   "cell_type": "code",
   "execution_count": 353,
   "id": "febe00ca-ddcb-4e9b-9e8e-1f4327e0b77f",
   "metadata": {},
   "outputs": [
    {
     "name": "stdout",
     "output_type": "stream",
     "text": [
      "Positive and larger than or equal to 10.\n"
     ]
    }
   ],
   "source": [
    "x=10\n",
    "if x<0:\n",
    "    print('It is negative.')\n",
    "elif x==0:\n",
    "    print('Equal to zero.')\n",
    "elif 0<x<10:\n",
    "    print('Positive but smaller than 10')\n",
    "else:\n",
    "    print('Positive and larger than or equal to 10.')"
   ]
  },
  {
   "cell_type": "markdown",
   "id": "d3108209-c63f-4bad-934c-f4d9fb884318",
   "metadata": {},
   "source": [
    "**条件的判断**\n",
    "\n",
    "| 表达式         | 描述              |\n",
    "|-------------|-----------------|\n",
    "| x==y        | x等于y            |\n",
    "| x<y         | x小于y            |\n",
    "| x>y         |  x大于y           |\n",
    "| x>=y        |  x大于等于y         |\n",
    "| x<=y        |  x小于等于y         |\n",
    "| x!=y        | x不等于y           |\n",
    "| x is y      |  x和y是同一个对象      |\n",
    "| x is not y  | x和y是不同的对象       |\n",
    "| x in y      | x是y容器（例如列表）的成员  |\n",
    "| x not in y  | x不是y容器（例如列表）的成员 |\n",
    "\n",
    "相等运算符==与同一性运算符is"
   ]
  },
  {
   "cell_type": "code",
   "execution_count": 363,
   "id": "49a93c1c-5fe9-473b-ad8e-6410d3c796ba",
   "metadata": {},
   "outputs": [
    {
     "name": "stdout",
     "output_type": "stream",
     "text": [
      "x==y->True\n",
      "x is y->True\n",
      "x==z->True\n",
      "x is z->False\n",
      "x is not y->False\n",
      "x is not z->True\n",
      "id_x:2036884737152;id_y:2036884737152;id_z:2036881713600\n",
      "x=[3, 6],y=[3, 6],z=[3, 6, 9] after del x[2]\n"
     ]
    }
   ],
   "source": [
    "x=y=[3,6,9]\n",
    "z=[3,6,9]\n",
    "print(\"x==y->{}\".format(x==y))\n",
    "print(\"x is y->{}\".format(x is y))\n",
    "print(\"x==z->{}\".format(x==z))\n",
    "print(\"x is z->{}\".format(x is z))\n",
    "print(\"x is not y->{}\".format(x is not y))\n",
    "print(\"x is not z->{}\".format(x is not z))\n",
    "print(\"id_x:{};id_y:{};id_z:{}\".format(id(x),id(y),id(z))) #Memory Location\n",
    "\n",
    "del x[2]\n",
    "print(\"x={},y={},z={} after del x[2]\".format(x,y,z))"
   ]
  },
  {
   "cell_type": "markdown",
   "id": "f16a5c3a-68f8-4094-ac24-10b96e8d9fad",
   "metadata": {},
   "source": [
    "成员资格运算符，in与not in"
   ]
  },
  {
   "cell_type": "code",
   "execution_count": 366,
   "id": "8289060d-748a-4ea1-853e-3f1914bc4ba5",
   "metadata": {},
   "outputs": [
    {
     "name": "stdout",
     "output_type": "stream",
     "text": [
      "3 in x->True\n",
      "0 in x->False\n",
      "3 not in x->False\n",
      "0 not in x->True\n"
     ]
    }
   ],
   "source": [
    "x=[3,6,9]\n",
    "print(\"3 in x->{}\".format(3 in x))\n",
    "print(\"0 in x->{}\".format(0 in x))\n",
    "print(\"3 not in x->{}\".format(3 not in x))\n",
    "print(\"0 not in x->{}\".format(0 not in x))"
   ]
  },
  {
   "cell_type": "markdown",
   "id": "2cb5ed16-4459-4b7e-b8d7-2d878619be29",
   "metadata": {},
   "source": [
    "布尔运算符"
   ]
  },
  {
   "cell_type": "code",
   "execution_count": 370,
   "id": "85e77f9f-167c-499a-ad98-d568bf1a8055",
   "metadata": {},
   "outputs": [
    {
     "name": "stdout",
     "output_type": "stream",
     "text": [
      "a<c<b kidding!!!\n"
     ]
    }
   ],
   "source": [
    "a,b,c=0,10,15\n",
    "if c>a and c<b:\n",
    "    print('a<c<b')\n",
    "else: print('a<c<b kidding!!!')"
   ]
  },
  {
   "cell_type": "markdown",
   "id": "f78d6723-3472-43c6-8f44-5dcb916bca54",
   "metadata": {},
   "source": [
    "## 3.5 函数 function\n",
    "### 3.5.1 定义函数\n",
    "```\n",
    "def function(arguments):\n",
    "    statement\n",
    "    ...\n",
    "    return values\n",
    "```"
   ]
  },
  {
   "cell_type": "code",
   "execution_count": 371,
   "id": "fa7a4acd-eb04-4a88-bbab-382625bad400",
   "metadata": {},
   "outputs": [],
   "source": [
    "def simple_func(x,y):\n",
    "    z=pow(x,2)+y\n",
    "    return z"
   ]
  },
  {
   "cell_type": "code",
   "execution_count": 374,
   "id": "f68ee6c1-f7cf-4cb3-ac11-aac2d841a87e",
   "metadata": {},
   "outputs": [
    {
     "name": "stdout",
     "output_type": "stream",
     "text": [
      "simple_func(3,7)->16\n",
      "simple_func(7,3)->52\n",
      "simple_func(y=7,x=3)->16\n"
     ]
    }
   ],
   "source": [
    "print(\"simple_func(3,7)->{}\".format(simple_func(3,7)))\n",
    "print(\"simple_func(7,3)->{}\".format(simple_func(7,3)))\n",
    "print(\"simple_func(y=7,x=3)->{}\".format(simple_func(y=7,x=3)))"
   ]
  },
  {
   "cell_type": "markdown",
   "id": "6a37842c-5a91-4282-a972-4ad4591ae0b7",
   "metadata": {},
   "source": [
    "* 定义斐波那契数列(Successione di Fibonacci)函数\n",
    "\n",
    "<a href=\"\"><img src=\"./imgs/011.jpg\" height=\"auto\" width=\"auto\" title=\"caDesign\"></a>  \n",
    "\n",
    "数学定义：\n",
    "```\n",
    "F_0=0\n",
    "F_1=1\n",
    "F_n=F_{n-1}+ F_{n-2}（n≧2）\n",
    "```\n",
    "\n",
    "**0, 1, 1, 2, 3, 5, 8, 13, 21, 34, 55, 89, 144, 233……**"
   ]
  },
  {
   "cell_type": "code",
   "execution_count": 379,
   "id": "73b3d023-bc81-464a-88eb-496741af0f38",
   "metadata": {},
   "outputs": [
    {
     "name": "stdout",
     "output_type": "stream",
     "text": [
      "fibonacci(6,9)->[5, 8, 13, 21, 34, 55, 89, 144, 233]\n",
      "fibonacci(7,9)->[8, 13, 21, 34, 55, 89, 144, 233, 377]\n"
     ]
    }
   ],
   "source": [
    "def fibonacci(s,count): #定义fib函数的方法较笨\n",
    "    fib_lst=[0,1]\n",
    "    fib_part=[]\n",
    "    if s==0 or s==1:\n",
    "        fib_part[:]=fib_lst\n",
    "        for i in range(count-2):\n",
    "            fib_part.append(fib_part[-1]+fib_part[-2])\n",
    "    else:\n",
    "        while True:\n",
    "            fib_lst[:]=[fib_lst[1],fib_lst[0]+fib_lst[1]]\n",
    "            #print(fib_lst)\n",
    "            if fib_lst[1]-s>=0:break\n",
    "        fib_part[:]=fib_lst\n",
    "        if abs(fib_lst[0]-s)>=abs(fib_lst[1]-s):\n",
    "            for i in range(count-1):\n",
    "                fib_part.append(fib_part[-1]+fib_part[-2])\n",
    "            fib_part.pop(0)\n",
    "        else:\n",
    "            for i in range(count-2):\n",
    "                fib_part.append(fib_part[-1]+fib_part[-2])\n",
    "    return fib_part\n",
    "\n",
    "print(\"fibonacci(6,9)->{}\".format(fibonacci(6,9)))\n",
    "print(\"fibonacci(7,9)->{}\".format(fibonacci(7,9)))"
   ]
  },
  {
   "cell_type": "markdown",
   "id": "e8c634f9-5cac-4d64-8ef7-329775a4ca6e",
   "metadata": {},
   "source": [
    "### 3.5.2 递归\n",
    "递归recursion-在数学与计算机科学中，是指在函数的定义中使用函数自身的方法。一般来讲递归包含两个部分：\n",
    "\n",
    "• 当函数直接返回值时有基本实例（最小可能性问题）；\n",
    "\n",
    "• 递归实例，包括一个或者多个问题最小部分的递归调用；\n",
    "\n",
    "这里的关键就是将问题分成为小部分，递归不能永远继续下去，因为它总是以最小可能性问题结束，而这些问题又存贮在基本实例中。每次函数被调用时，针对这个调用的新命名空间会被创建，意味着当函数调用“自身”时，实际上运行的是两个不同的函数（或者说是同一个函数具有两个不同的命名空间）。\n",
    "\n",
    "**用递归定义阶乘 factorial**\n",
    "\n",
    "<a href=\"\"><img src=\"./imgs/013.png\" height=\"auto\" width=\"auto\" title=\"caDesign\"></a>  \n"
   ]
  },
  {
   "cell_type": "code",
   "execution_count": 380,
   "id": "f19d7251-6688-4d5b-b106-ec1e7d7804ca",
   "metadata": {},
   "outputs": [
    {
     "name": "stdout",
     "output_type": "stream",
     "text": [
      "5040\n"
     ]
    }
   ],
   "source": [
    "def factorial(n):\n",
    "    if n==1:\n",
    "        return 1\n",
    "    else:\n",
    "        return n*factorial(n-1)\n",
    "print(factorial(7))"
   ]
  },
  {
   "cell_type": "markdown",
   "id": "90d33630-5003-4eea-8914-cddf216a4281",
   "metadata": {},
   "source": [
    "## 3.6 类 class\n",
    "### 3.6.1 定义类\n",
    "\n",
    "事物认知过程中，总是习惯将世界中存在的对象进行分类，例如鸟类、鱼类、花草等，在Rhinoceros几何形式中则有点、线、曲面、格网等。每个分类之所以能够归为一类，是因为该类的对象具有共同的属性特征，例如鸟类一般都能够飞翔，具有翅膀，身披羽毛等，而鱼类则生活在水中，用腮呼吸，用鳍辅助身体平衡与运动；而点具有坐标，线具有曲率、长度、方向，曲面具有表面积、截面线等。每一类都有每一类的属性特点，也具有该类的一些行为方法，但是每一个类下又有很多子类，例如鸟类又分雨燕目、 鸽形目、 雁形目等，而雨燕目之下由有科，科下则为具体的对象例如黑雨燕、珍雨燕、小雨燕等。\n",
    "\n",
    "对于人类认知世界的分类系统，在Python语言中有与之类似的程序编写方法-类。例如创建一个鸟的类：\n",
    "\n",
    "<a href=\"\"><img src=\"./imgs/014.png\" height=\"auto\" width=\"auto\" title=\"caDesign\"></a>  \n"
   ]
  },
  {
   "cell_type": "code",
   "execution_count": 406,
   "id": "c0ad70fe-1754-4baf-8ced-f2385aab8b45",
   "metadata": {},
   "outputs": [],
   "source": [
    "class Bird:\n",
    "    fly='Whirring' #美 /wɜːr/ \n",
    "    def __init__(self):\n",
    "        self.hungry=True\n",
    "    def eat(self):\n",
    "        if self.hungry:\n",
    "            print('Aaaah...')\n",
    "            self.hungry=False\n",
    "        else:\n",
    "            print('No.Thanks!')\n",
    "\n",
    "class Apodidae(Bird):  #/'æpədədi:/\n",
    "    def __init__(self):\n",
    "        super(Apodidae,self).__init__()\n",
    "        self.sound='Squawk!' #美 /skwɔːk/ \n",
    "    def sing(self):\n",
    "        print(self.sound)"
   ]
  },
  {
   "cell_type": "code",
   "execution_count": 407,
   "id": "8cfe98fb-bcae-41fc-bf32-b8209d0cf694",
   "metadata": {},
   "outputs": [
    {
     "name": "stdout",
     "output_type": "stream",
     "text": [
      "swift.fly->Whirring\n",
      "swift.eat()->\n",
      "Aaaah...\n",
      "swift.eat()->\n",
      "No.Thanks!\n",
      "swift.sing()->\n",
      "Squawk!\n"
     ]
    }
   ],
   "source": [
    "swift=Apodidae()\n",
    "print(\"swift.fly->{}\".format(swift.fly))\n",
    "print(\"swift.eat()->\")\n",
    "swift.eat()\n",
    "print(\"swift.eat()->\")\n",
    "swift.eat()\n",
    "print(\"swift.sing()->\")\n",
    "swift.sing()"
   ]
  },
  {
   "cell_type": "markdown",
   "id": "70f2b558-d1d2-44a9-8766-3193228709a8",
   "metadata": {},
   "source": [
    "* 类与类的实例"
   ]
  },
  {
   "cell_type": "code",
   "execution_count": 408,
   "id": "6e693a56-d596-4c4a-bc2b-058383f6cbc1",
   "metadata": {},
   "outputs": [
    {
     "name": "stdout",
     "output_type": "stream",
     "text": [
      "blackswift.sing()->\n",
      "Squawk!\n",
      "scarceswift.sing()->\n",
      "Squawk!\n"
     ]
    }
   ],
   "source": [
    "blackswift=Apodidae()\n",
    "scarceswift=Apodidae()\n",
    "print(\"blackswift.sing()->\")\n",
    "blackswift.sing()\n",
    "print(\"scarceswift.sing()->\")\n",
    "scarceswift.sing()"
   ]
  },
  {
   "cell_type": "markdown",
   "id": "1fcda35f-6c2e-467d-8df0-8e529e0fccb4",
   "metadata": {},
   "source": [
    "* 类的属性"
   ]
  },
  {
   "cell_type": "code",
   "execution_count": 409,
   "id": "c14f5a45-4dea-44d6-83a7-e229d304cfbb",
   "metadata": {},
   "outputs": [
    {
     "name": "stdout",
     "output_type": "stream",
     "text": [
      "blackswift.fly->Whirring\n",
      "blackswift.fly after redefining the blackswif's attribute->humming\n",
      "scarceswift.fly->Whirring\n"
     ]
    }
   ],
   "source": [
    "print(\"blackswift.fly->{}\".format(blackswift.fly))\n",
    "blackswift.fly='humming' #重新赋予实例的属性\n",
    "print(\"blackswift.fly after redefining the blackswif's attribute->{}\".format(blackswift.fly))\n",
    "print(\"scarceswift.fly->{}\".format(scarceswift.fly))"
   ]
  },
  {
   "cell_type": "markdown",
   "id": "4d65d22f-b0a6-40ad-8c75-25327ebc731a",
   "metadata": {},
   "source": [
    "* 类的方法\n",
    "\n",
    "` object.method() `"
   ]
  },
  {
   "cell_type": "code",
   "execution_count": 410,
   "id": "ed25d011-0373-442f-865e-87442213c40d",
   "metadata": {},
   "outputs": [
    {
     "name": "stdout",
     "output_type": "stream",
     "text": [
      "Squawk!\n"
     ]
    }
   ],
   "source": [
    "blackswift.sing()"
   ]
  },
  {
   "cell_type": "markdown",
   "id": "f0eeeebb-2c15-42df-8176-ecb3e55dc5e4",
   "metadata": {},
   "source": [
    "* 超类+子类"
   ]
  },
  {
   "cell_type": "code",
   "execution_count": 411,
   "id": "8158cb8e-0870-4f47-9e0a-8e62ca733b8e",
   "metadata": {},
   "outputs": [
    {
     "name": "stdout",
     "output_type": "stream",
     "text": [
      "Help on class Bird in module __main__:\n",
      "\n",
      "class Bird(builtins.object)\n",
      " |  Methods defined here:\n",
      " |  \n",
      " |  __init__(self)\n",
      " |      Initialize self.  See help(type(self)) for accurate signature.\n",
      " |  \n",
      " |  eat(self)\n",
      " |  \n",
      " |  ----------------------------------------------------------------------\n",
      " |  Data descriptors defined here:\n",
      " |  \n",
      " |  __dict__\n",
      " |      dictionary for instance variables (if defined)\n",
      " |  \n",
      " |  __weakref__\n",
      " |      list of weak references to the object (if defined)\n",
      " |  \n",
      " |  ----------------------------------------------------------------------\n",
      " |  Data and other attributes defined here:\n",
      " |  \n",
      " |  fly = 'Whirring'\n",
      "\n"
     ]
    }
   ],
   "source": [
    "help(Bird)"
   ]
  },
  {
   "cell_type": "code",
   "execution_count": 412,
   "id": "6efcb4d1-6269-4a8c-8cdc-446cf1ed4aaf",
   "metadata": {},
   "outputs": [
    {
     "name": "stdout",
     "output_type": "stream",
     "text": [
      "Help on class Apodidae in module __main__:\n",
      "\n",
      "class Apodidae(Bird)\n",
      " |  Method resolution order:\n",
      " |      Apodidae\n",
      " |      Bird\n",
      " |      builtins.object\n",
      " |  \n",
      " |  Methods defined here:\n",
      " |  \n",
      " |  __init__(self)\n",
      " |      Initialize self.  See help(type(self)) for accurate signature.\n",
      " |  \n",
      " |  sing(self)\n",
      " |  \n",
      " |  ----------------------------------------------------------------------\n",
      " |  Methods inherited from Bird:\n",
      " |  \n",
      " |  eat(self)\n",
      " |  \n",
      " |  ----------------------------------------------------------------------\n",
      " |  Data descriptors inherited from Bird:\n",
      " |  \n",
      " |  __dict__\n",
      " |      dictionary for instance variables (if defined)\n",
      " |  \n",
      " |  __weakref__\n",
      " |      list of weak references to the object (if defined)\n",
      " |  \n",
      " |  ----------------------------------------------------------------------\n",
      " |  Data and other attributes inherited from Bird:\n",
      " |  \n",
      " |  fly = 'Whirring'\n",
      "\n"
     ]
    }
   ],
   "source": [
    "help(Apodidae)"
   ]
  },
  {
   "cell_type": "markdown",
   "id": "0ca4d72a-a04e-4b83-b4cb-49129faed2c7",
   "metadata": {},
   "source": [
    "### 3.6.2 迭代+迭代器\n",
    "\n",
    "> 迭代方法往往在机器/深度学习中用于读取数据。`import torch.utils.data as Data` `train_data_iter=Data.DataLoader(train_dataset,batch_size,shuffle=True) #随机读取小批量`"
   ]
  },
  {
   "cell_type": "code",
   "execution_count": 413,
   "id": "587a3d7b-70cc-40ae-869e-8680b6b3dffe",
   "metadata": {},
   "outputs": [],
   "source": [
    "class Fibs():\n",
    "    def __init__(self):\n",
    "        self.a=0\n",
    "        self.b=1\n",
    "    def next(self):  #实现迭代器的next方法\n",
    "        self.a,self.b=self.b,self.a+self.b\n",
    "        return self.a\n",
    "    def __iter__(self): #实现迭代方法\n",
    "        return self"
   ]
  },
  {
   "cell_type": "code",
   "execution_count": 416,
   "id": "bebaebc4-f725-454e-9e95-c12fd5d94bb9",
   "metadata": {},
   "outputs": [
    {
     "name": "stdout",
     "output_type": "stream",
     "text": [
      "fa=[1, 1, 2, 3, 5, 8, 13, 21, 34]\n",
      "fb=[55, 89, 144, 233, 377]\n"
     ]
    }
   ],
   "source": [
    "f=Fibs()\n",
    "fa=[]\n",
    "fb=[]\n",
    "for i in range(9):\n",
    "    fa.append(f.next())\n",
    "print(\"fa={}\".format(fa))\n",
    "for i in range(5):\n",
    "    fb.append(f.next())\n",
    "print(\"fb={}\".format(fb))"
   ]
  },
  {
   "cell_type": "code",
   "execution_count": 422,
   "id": "b842a40a-c25c-4c09-9c08-68b228b2ca1a",
   "metadata": {},
   "outputs": [
    {
     "name": "stdout",
     "output_type": "stream",
     "text": [
      "lst_d=[3, 5, 7, 9, 11, 13, 15, 17, 19]\n",
      "__________________________________________________\n",
      "next(lst_iter)->5\n",
      "next(lst_iter)->8\n",
      "11\n",
      "14\n",
      "17\n"
     ]
    },
    {
     "ename": "StopIteration",
     "evalue": "",
     "output_type": "error",
     "traceback": [
      "\u001b[1;31m---------------------------------------------------------------------------\u001b[0m",
      "\u001b[1;31mStopIteration\u001b[0m                             Traceback (most recent call last)",
      "\u001b[1;32m~\\AppData\\Local\\Temp/ipykernel_38760/423625245.py\u001b[0m in \u001b[0;36m<module>\u001b[1;34m\u001b[0m\n\u001b[0;32m      7\u001b[0m \u001b[1;32mfor\u001b[0m \u001b[0mi\u001b[0m \u001b[1;32min\u001b[0m \u001b[0mlst_iter\u001b[0m\u001b[1;33m:\u001b[0m\u001b[1;33m\u001b[0m\u001b[1;33m\u001b[0m\u001b[0m\n\u001b[0;32m      8\u001b[0m     \u001b[0mprint\u001b[0m\u001b[1;33m(\u001b[0m\u001b[0mi\u001b[0m\u001b[1;33m)\u001b[0m\u001b[1;33m\u001b[0m\u001b[1;33m\u001b[0m\u001b[0m\n\u001b[1;32m----> 9\u001b[1;33m \u001b[0mnext\u001b[0m\u001b[1;33m(\u001b[0m\u001b[0mlst_iter\u001b[0m\u001b[1;33m)\u001b[0m\u001b[1;33m\u001b[0m\u001b[1;33m\u001b[0m\u001b[0m\n\u001b[0m",
      "\u001b[1;31mStopIteration\u001b[0m: "
     ]
    }
   ],
   "source": [
    "lst_d=list(range(3,20,2))\n",
    "print(\"lst_d={}\".format(lst_d))\n",
    "print(\"_\"*50)\n",
    "lst_iter=iter(lst)\n",
    "print(\"next(lst_iter)->{}\".format(next(lst_iter)))\n",
    "print(\"next(lst_iter)->{}\".format(next(lst_iter)))\n",
    "for i in lst_iter:\n",
    "    print(i)\n",
    "next(lst_iter)"
   ]
  },
  {
   "cell_type": "markdown",
   "id": "57862aa0-d813-4405-bda7-910639ad1fa7",
   "metadata": {},
   "source": [
    "### 3.6.3 生成器(generator)\n",
    "\n",
    "**一般方法**"
   ]
  },
  {
   "cell_type": "code",
   "execution_count": 426,
   "id": "ea6a46f9-b16c-496e-b0fe-8abff23b7357",
   "metadata": {},
   "outputs": [
    {
     "name": "stdout",
     "output_type": "stream",
     "text": [
      "lst_e=[[3, 6, 9, 12, 15, 18], [3, 7, 67, [0, 1, 2, 3, 4], 89]]\n",
      "__________________________________________________\n",
      "flatten_lst=[3, 6, 9, 12, 15, 18, 3, 7, 67, 0, 1, 2, 3, 4, 89]\n"
     ]
    }
   ],
   "source": [
    "lst_e=[list(range(3,20,3)),[3,7,67,list(range(5)),89]]\n",
    "print(\"lst_e={}\".format(lst_e))\n",
    "print(\"_\"*50)\n",
    "flatten_lst=[]\n",
    "for v_1 in lst_e:\n",
    "    try:\n",
    "        for v_2 in v_1:\n",
    "            try:\n",
    "                for v_3 in v_2:\n",
    "                    flatten_lst.append(v_3)\n",
    "            except TypeError:\n",
    "                flatten_lst.append(v_2)\n",
    "    except TypeError:\n",
    "        flatten_lst.append(v_1)\n",
    "print(\"flatten_lst={}\".format(flatten_lst))"
   ]
  },
  {
   "cell_type": "markdown",
   "id": "8736989c-0e6f-4891-adeb-2a43457ad3a3",
   "metadata": {},
   "source": [
    "**生成器方法**\n",
    "\n",
    "使用for循环展平列表，语句表达繁琐，如果存在更多的嵌套或者不可知层次的嵌套列表，需要求助于生成器，一种普遍的函数语法定义的迭代器。"
   ]
  },
  {
   "cell_type": "code",
   "execution_count": 433,
   "id": "66641808-113f-4f3c-846d-67f16daae3f9",
   "metadata": {},
   "outputs": [],
   "source": [
    "def flatten(lst): #定义生成器（包含yield语句的函数）\n",
    "    try: #使用语句try\\except捕捉异常        \n",
    "        for n_lst in lst:  #循环列表            \n",
    "            for m in flatten(n_lst): #使用递归的方法循环子列表                \n",
    "                yield m  #使用yield语句，每次产生多个值，当返回一个值时函数就会被冻结，当再次激活时，从停止的那点开始执行\n",
    "    except TypeError:  #当函数被告知展开一个元素时，引发TypeError异常，生成器返回一个值\n",
    "        yield lst #生成器返回引发异常的一个值        "
   ]
  },
  {
   "cell_type": "code",
   "execution_count": 435,
   "id": "b7d598b2-2050-4d87-9fbc-c6b2849daae3",
   "metadata": {},
   "outputs": [
    {
     "name": "stdout",
     "output_type": "stream",
     "text": [
      "list(flatten(lst_e))->[3, 6, 9, 12, 15, 18, 3, 7, 67, 0, 1, 2, 3, 4, 89]\n"
     ]
    }
   ],
   "source": [
    "print(\"list(flatten(lst_e))->{}\".format(list(flatten(lst_e))))"
   ]
  },
  {
   "cell_type": "code",
   "execution_count": 436,
   "id": "afe7f358-10e0-4c9c-91e9-f3020a0f7202",
   "metadata": {},
   "outputs": [],
   "source": [
    "flatten_lst=lambda lst:[m for n_lst in lst for m in flatten_lst(n_lst)] if type(lst) is list else [lst] #lambda 生成器方法"
   ]
  },
  {
   "cell_type": "markdown",
   "id": "58710c34-77de-40c6-b570-fe03b589663f",
   "metadata": {},
   "source": [
    "* 建立无穷列表"
   ]
  },
  {
   "cell_type": "code",
   "execution_count": 437,
   "id": "8a48ce80-b664-481e-83be-1d98654bcd05",
   "metadata": {},
   "outputs": [],
   "source": [
    "def infinite():\n",
    "    n=0\n",
    "    while True:\n",
    "        yield 'num#'+str(n)\n",
    "        n+=1"
   ]
  },
  {
   "cell_type": "code",
   "execution_count": 440,
   "id": "6841fe52-bcfa-4b9a-a201-0805898dc967",
   "metadata": {},
   "outputs": [
    {
     "name": "stdout",
     "output_type": "stream",
     "text": [
      "next(n)->num#0\n",
      "next(n)->num#1\n",
      "next(n)->num#2\n",
      "[next(n) for i in range(5)]->['num#3', 'num#4', 'num#5', 'num#6', 'num#7']\n"
     ]
    }
   ],
   "source": [
    "n=infinite()\n",
    "print(\"next(n)->{}\".format(next(n)))\n",
    "print(\"next(n)->{}\".format(next(n)))\n",
    "print(\"next(n)->{}\".format(next(n)))\n",
    "print(\"[next(n) for i in range(5)]->{}\".format([next(n) for i in range(5)]))"
   ]
  },
  {
   "cell_type": "markdown",
   "id": "9a6186b8-d487-46a8-af33-adf9b54cc871",
   "metadata": {},
   "source": [
    "**生成器表达式(generator expression)**"
   ]
  },
  {
   "cell_type": "code",
   "execution_count": 446,
   "id": "54dc9408-0235-41ef-b1f1-74f106863e5f",
   "metadata": {},
   "outputs": [
    {
     "name": "stdout",
     "output_type": "stream",
     "text": [
      "[[(2*pi*(2*(u/(n-1))-1),2*pi*(2*(v/(n-1))-1)) for u in range(n)] for v in range(n)]->[[(-6.283185307179586, -6.283185307179586), (0.0, -6.283185307179586), (6.283185307179586, -6.283185307179586)], [(-6.283185307179586, 0.0), (0.0, 0.0), (6.283185307179586, 0.0)], [(-6.283185307179586, 6.283185307179586), (0.0, 6.283185307179586), (6.283185307179586, 6.283185307179586)]]\n",
      "__________________________________________________\n",
      "([(2*pi*(2*(u/(n-1))-1),2*pi*(2*(v/(n-1))-1)) for u in range(n)] for v in range(n))-><generator object <genexpr> at 0x000001DA3FD1D2E0>\n",
      "next(gen)->[(-6.283185307179586, -6.283185307179586), (0.0, -6.283185307179586), (6.283185307179586, -6.283185307179586)]\n",
      "next(gen)->[(-6.283185307179586, 0.0), (0.0, 0.0), (6.283185307179586, 0.0)]\n"
     ]
    }
   ],
   "source": [
    "n=3\n",
    "print(\"[[(2*pi*(2*(u/(n-1))-1),2*pi*(2*(v/(n-1))-1)) for u in range(n)] for v in range(n)]->{}\".format([[(2*pi*(2*(u/(n-1))-1),2*pi*(2*(v/(n-1))-1)) for u in range(n)] for v in range(n)]))\n",
    "print(\"_\"*50)\n",
    "print(\"([(2*pi*(2*(u/(n-1))-1),2*pi*(2*(v/(n-1))-1)) for u in range(n)] for v in range(n))->{}\".format(([(2*pi*(2*(u/(n-1))-1),2*pi*(2*(v/(n-1))-1)) for u in range(n)] for v in range(n))))\n",
    "gen=([(2*pi*(2*(u/(n-1))-1),2*pi*(2*(v/(n-1))-1)) for u in range(n)] for v in range(n))\n",
    "print(\"next(gen)->{}\".format(next(gen)))\n",
    "print(\"next(gen)->{}\".format(next(gen)))"
   ]
  },
  {
   "cell_type": "markdown",
   "id": "c39d800a-a1cf-4aaa-91f4-64ef5356efaa",
   "metadata": {},
   "source": [
    "**[itertools](https://docs.python.org/3/library/itertools.html) — Functions creating iterators for efficient looping**"
   ]
  },
  {
   "cell_type": "markdown",
   "id": "e129b7b6-590d-4e4a-be56-cded338b2252",
   "metadata": {},
   "source": [
    "## 3.7 异常 try exception\n",
    "### 3.7.1 try/except捕捉异常\n",
    "使用except语句时如果不待任何异常类型，将会捕捉所有异常，但是会捕捉到很多不必要的异常，应该尽量避免使用\n",
    "\n",
    "```python\n",
    "try:\n",
    "    do something\n",
    "except:\n",
    "    do something\n",
    "```"
   ]
  },
  {
   "cell_type": "code",
   "execution_count": 448,
   "id": "b1648e3e-0e0d-4d72-ac31-df54f397aca6",
   "metadata": {},
   "outputs": [
    {
     "name": "stdout",
     "output_type": "stream",
     "text": [
      "f_convert_a('3.1415')->3.1415\n",
      "f_convert_a('string')->string\n",
      "f_convert_a(3,6,7)->(3, 6, 7)\n"
     ]
    }
   ],
   "source": [
    "def f_convert_a(x):\n",
    "    try:\n",
    "        return float(x)\n",
    "    except:\n",
    "        return x\n",
    "print(\"f_convert_a('3.1415')->{}\".format(f_convert_a('3.1415')))    \n",
    "print(\"f_convert_a('string')->{}\".format(f_convert_a('string')))  \n",
    "print(\"f_convert_a(3,6,7)->{}\".format(f_convert_a((3,6,7))))  "
   ]
  },
  {
   "cell_type": "markdown",
   "id": "a1032561-6c37-414e-9557-bc7d52e9c8f4",
   "metadata": {},
   "source": [
    "```python\n",
    "try:\n",
    "    do something\n",
    "except ValueError:\n",
    "    do something\n",
    "```"
   ]
  },
  {
   "cell_type": "code",
   "execution_count": 449,
   "id": "b52c1e2f-6b76-4457-88a7-45d52e332195",
   "metadata": {},
   "outputs": [
    {
     "name": "stdout",
     "output_type": "stream",
     "text": [
      "f_convert_b('3.1415')->3.1415\n",
      "f_convert_b('string')->string\n"
     ]
    },
    {
     "ename": "TypeError",
     "evalue": "float() argument must be a string or a number, not 'tuple'",
     "output_type": "error",
     "traceback": [
      "\u001b[1;31m---------------------------------------------------------------------------\u001b[0m",
      "\u001b[1;31mTypeError\u001b[0m                                 Traceback (most recent call last)",
      "\u001b[1;32m~\\AppData\\Local\\Temp/ipykernel_38760/4203039468.py\u001b[0m in \u001b[0;36m<module>\u001b[1;34m\u001b[0m\n\u001b[0;32m      6\u001b[0m \u001b[0mprint\u001b[0m\u001b[1;33m(\u001b[0m\u001b[1;34m\"f_convert_b('3.1415')->{}\"\u001b[0m\u001b[1;33m.\u001b[0m\u001b[0mformat\u001b[0m\u001b[1;33m(\u001b[0m\u001b[0mf_convert_b\u001b[0m\u001b[1;33m(\u001b[0m\u001b[1;34m'3.1415'\u001b[0m\u001b[1;33m)\u001b[0m\u001b[1;33m)\u001b[0m\u001b[1;33m)\u001b[0m\u001b[1;33m\u001b[0m\u001b[1;33m\u001b[0m\u001b[0m\n\u001b[0;32m      7\u001b[0m \u001b[0mprint\u001b[0m\u001b[1;33m(\u001b[0m\u001b[1;34m\"f_convert_b('string')->{}\"\u001b[0m\u001b[1;33m.\u001b[0m\u001b[0mformat\u001b[0m\u001b[1;33m(\u001b[0m\u001b[0mf_convert_b\u001b[0m\u001b[1;33m(\u001b[0m\u001b[1;34m'string'\u001b[0m\u001b[1;33m)\u001b[0m\u001b[1;33m)\u001b[0m\u001b[1;33m)\u001b[0m\u001b[1;33m\u001b[0m\u001b[1;33m\u001b[0m\u001b[0m\n\u001b[1;32m----> 8\u001b[1;33m \u001b[0mprint\u001b[0m\u001b[1;33m(\u001b[0m\u001b[1;34m\"f_convert_b(3,6,7)->{}\"\u001b[0m\u001b[1;33m.\u001b[0m\u001b[0mformat\u001b[0m\u001b[1;33m(\u001b[0m\u001b[0mf_convert_b\u001b[0m\u001b[1;33m(\u001b[0m\u001b[1;33m(\u001b[0m\u001b[1;36m3\u001b[0m\u001b[1;33m,\u001b[0m\u001b[1;36m6\u001b[0m\u001b[1;33m,\u001b[0m\u001b[1;36m7\u001b[0m\u001b[1;33m)\u001b[0m\u001b[1;33m)\u001b[0m\u001b[1;33m)\u001b[0m\u001b[1;33m)\u001b[0m\u001b[1;33m\u001b[0m\u001b[1;33m\u001b[0m\u001b[0m\n\u001b[0m",
      "\u001b[1;32m~\\AppData\\Local\\Temp/ipykernel_38760/4203039468.py\u001b[0m in \u001b[0;36mf_convert_b\u001b[1;34m(x)\u001b[0m\n\u001b[0;32m      1\u001b[0m \u001b[1;32mdef\u001b[0m \u001b[0mf_convert_b\u001b[0m\u001b[1;33m(\u001b[0m\u001b[0mx\u001b[0m\u001b[1;33m)\u001b[0m\u001b[1;33m:\u001b[0m\u001b[1;33m\u001b[0m\u001b[1;33m\u001b[0m\u001b[0m\n\u001b[0;32m      2\u001b[0m     \u001b[1;32mtry\u001b[0m\u001b[1;33m:\u001b[0m\u001b[1;33m\u001b[0m\u001b[1;33m\u001b[0m\u001b[0m\n\u001b[1;32m----> 3\u001b[1;33m         \u001b[1;32mreturn\u001b[0m \u001b[0mfloat\u001b[0m\u001b[1;33m(\u001b[0m\u001b[0mx\u001b[0m\u001b[1;33m)\u001b[0m\u001b[1;33m\u001b[0m\u001b[1;33m\u001b[0m\u001b[0m\n\u001b[0m\u001b[0;32m      4\u001b[0m     \u001b[1;32mexcept\u001b[0m \u001b[0mValueError\u001b[0m\u001b[1;33m:\u001b[0m\u001b[1;33m\u001b[0m\u001b[1;33m\u001b[0m\u001b[0m\n\u001b[0;32m      5\u001b[0m         \u001b[1;32mreturn\u001b[0m \u001b[0mx\u001b[0m\u001b[1;33m\u001b[0m\u001b[1;33m\u001b[0m\u001b[0m\n",
      "\u001b[1;31mTypeError\u001b[0m: float() argument must be a string or a number, not 'tuple'"
     ]
    }
   ],
   "source": [
    "def f_convert_b(x):\n",
    "    try:\n",
    "        return float(x)\n",
    "    except ValueError:\n",
    "        return x\n",
    "print(\"f_convert_b('3.1415')->{}\".format(f_convert_b('3.1415')))    \n",
    "print(\"f_convert_b('string')->{}\".format(f_convert_b('string')))  \n",
    "print(\"f_convert_b(3,6,7)->{}\".format(f_convert_b((3,6,7))))  "
   ]
  },
  {
   "cell_type": "markdown",
   "id": "c5224d40-50e0-496b-bf3a-e1b038de2cdf",
   "metadata": {},
   "source": [
    "使用多条except子句可以指定多个异常处理代码块：\n",
    "\n",
    "```python\n",
    "try:\n",
    "    do something\n",
    "except TypeError:\n",
    "    do something\n",
    "except ValueError:\n",
    "    do something\n",
    "```"
   ]
  },
  {
   "cell_type": "code",
   "execution_count": 450,
   "id": "cf1f4f4d-6ce0-4f35-9afa-0c1b69435360",
   "metadata": {},
   "outputs": [
    {
     "name": "stdout",
     "output_type": "stream",
     "text": [
      "f_convert_c('3.1415')->3.1415\n",
      "f_convert_c('string')->string\n",
      "(3, 6, 7) TypeError\n",
      "f_convert_c(3,6,7)->None\n"
     ]
    }
   ],
   "source": [
    "def f_convert_c(x):\n",
    "    try:\n",
    "        return float(x)\n",
    "    except ValueError:\n",
    "        return x\n",
    "    except TypeError:\n",
    "        print(x,'TypeError')\n",
    "print(\"f_convert_c('3.1415')->{}\".format(f_convert_c('3.1415')))    \n",
    "print(\"f_convert_c('string')->{}\".format(f_convert_c('string')))  \n",
    "print(\"f_convert_c(3,6,7)->{}\".format(f_convert_c((3,6,7))))         "
   ]
  },
  {
   "cell_type": "markdown",
   "id": "9d856606-39bf-4b08-b6cb-624e4bc8e54c",
   "metadata": {},
   "source": [
    "处理程序也可以捕捉多种类型的异常\n",
    "\n",
    "```python\n",
    "try:\n",
    "    do something\n",
    "except (TypeError, ValueError ):\n",
    "    do something\n",
    "```"
   ]
  },
  {
   "cell_type": "code",
   "execution_count": 451,
   "id": "e1a30c7a-c1c3-4dcd-9acc-ce3b1aca8f09",
   "metadata": {},
   "outputs": [
    {
     "name": "stdout",
     "output_type": "stream",
     "text": [
      "f_convert_d('3.1415')->3.1415\n",
      "string ValueError or TypeError\n",
      "f_convert_d('string')->None\n",
      "(3, 6, 7) ValueError or TypeError\n",
      "f_convert_d(3,6,7)->None\n"
     ]
    }
   ],
   "source": [
    "def f_convert_d(x):\n",
    "    try:\n",
    "        return float(x)\n",
    "    except (ValueError,TypeError):\n",
    "        print(x,'ValueError or TypeError')\n",
    "print(\"f_convert_d('3.1415')->{}\".format(f_convert_d('3.1415')))    \n",
    "print(\"f_convert_d('string')->{}\".format(f_convert_d('string')))  \n",
    "print(\"f_convert_d(3,6,7)->{}\".format(f_convert_d((3,6,7)))) "
   ]
  },
  {
   "cell_type": "markdown",
   "id": "ad853a0c-cc30-4ff6-b669-79d61f9ed5d6",
   "metadata": {},
   "source": [
    "```python\n",
    "try:\n",
    "    do something\n",
    "except (TypeError, ValueError ) as e:\n",
    "    do something\n",
    "```"
   ]
  },
  {
   "cell_type": "code",
   "execution_count": 452,
   "id": "7bba3482-26ea-41e7-8427-d21bd20cbf8c",
   "metadata": {},
   "outputs": [
    {
     "name": "stdout",
     "output_type": "stream",
     "text": [
      "f_convert_e('3.1415')->3.1415\n",
      "string could not convert string to float: 'string'\n",
      "f_convert_e('string')->None\n",
      "(3, 6, 7) float() argument must be a string or a number, not 'tuple'\n",
      "f_convert_e(3,6,7)->None\n"
     ]
    }
   ],
   "source": [
    "def f_convert_e(x):\n",
    "    try:\n",
    "        return float(x)\n",
    "    except (ValueError,TypeError) as e:\n",
    "        return print(x,e)\n",
    "print(\"f_convert_e('3.1415')->{}\".format(f_convert_e('3.1415')))    \n",
    "print(\"f_convert_e('string')->{}\".format(f_convert_e('string')))  \n",
    "print(\"f_convert_e(3,6,7)->{}\".format(f_convert_e((3,6,7))))    "
   ]
  },
  {
   "cell_type": "markdown",
   "id": "c32724b4-0e77-41a0-90c0-f3f2eda0b9c4",
   "metadata": {},
   "source": [
    "使用pass语句可以忽略异常\n",
    "\n",
    "```python\n",
    "def f_convert_f(x):\n",
    "try:\n",
    "    return float(x)\n",
    "except ValueError as e:\n",
    "    pass\n",
    "```"
   ]
  },
  {
   "cell_type": "code",
   "execution_count": 454,
   "id": "1ada0278-0493-4d0a-923c-b9b4d42827e2",
   "metadata": {},
   "outputs": [
    {
     "name": "stdout",
     "output_type": "stream",
     "text": [
      "f_convert_f('3.1415')->3.1415\n",
      "f_convert_f('string')->None\n",
      "f_convert_f(3,6,7)->None\n"
     ]
    }
   ],
   "source": [
    "def f_convert_f(x):\n",
    "    try:\n",
    "        return float(x)\n",
    "    except (ValueError,TypeError) as e:\n",
    "        pass\n",
    "print(\"f_convert_f('3.1415')->{}\".format(f_convert_f('3.1415')))    \n",
    "print(\"f_convert_f('string')->{}\".format(f_convert_f('string')))  \n",
    "print(\"f_convert_f(3,6,7)->{}\".format(f_convert_f((3,6,7))))     "
   ]
  },
  {
   "cell_type": "markdown",
   "id": "79e3cfaa-47c1-4cc2-a357-84e1cf089327",
   "metadata": {},
   "source": [
    "try语句也支持else子句，但是不需跟在最后一个except子句的后面。如果try代码块中的程序没有引发异常，将会执行else子句中的程序：\n",
    "\n",
    "```python\n",
    "def f_open_a(fp):\n",
    "try:\n",
    "    do something\n",
    "except IOError as e:\n",
    "    do something\n",
    "else:\n",
    "    do something\n",
    "```"
   ]
  },
  {
   "cell_type": "code",
   "execution_count": 458,
   "id": "9589bda6-4f96-41f0-a2c5-704186390545",
   "metadata": {},
   "outputs": [
    {
     "name": "stdout",
     "output_type": "stream",
     "text": [
      "tryException_content->Hello Python!\n",
      "Unable to open ./data/tryException_.txt :[Errno 2] No such file or directory: './data/tryException_.txt'\n",
      "\n"
     ]
    }
   ],
   "source": [
    "def f_open_a(fp):\n",
    "    try:\n",
    "        f=open(fp,'r')\n",
    "    except IOError as e:\n",
    "        print('Unable to open',fp,':%s\\n' %e)\n",
    "    else:\n",
    "        data=f.read()\n",
    "        f.close\n",
    "        return data\n",
    "tryException_content=f_open_a(\"./data/tryException.txt\")   \n",
    "print(\"tryException_content->{}\".format(tryException_content))\n",
    "f_open_a(\"./data/tryException_.txt\")"
   ]
  },
  {
   "cell_type": "markdown",
   "id": "f9741d23-ea35-49ed-892d-acabde660062",
   "metadata": {},
   "source": [
    "finally语句为try代码块中的代码定义了结束操作，finally子句不是用于捕捉错误，而是提供一些程序代码，无论程序是否出错误都需要执行该代码。如果没有引发异常，finally子句的代码将在try代码块中的代码执行完毕后立即执行；如果引发了异常，控制权首先传递给finally子句的第一条语句。这段代码执行完毕后，将重新引发异常然后交由另一个异常处理程序进行处理。\n",
    "\n",
    "```python\n",
    "def f_open_a(fp):\n",
    "try:\n",
    "    do something\n",
    "except IOError as e:\n",
    "    do something\n",
    "else:\n",
    "    do something\n",
    "finally:\n",
    "    do something\n",
    "```"
   ]
  },
  {
   "cell_type": "code",
   "execution_count": 459,
   "id": "7f6ce1b1-b2e9-4868-a654-6d3d45a5f5bd",
   "metadata": {},
   "outputs": [
    {
     "name": "stdout",
     "output_type": "stream",
     "text": [
      "done!\n"
     ]
    },
    {
     "data": {
      "text/plain": [
       "'Hello Python!'"
      ]
     },
     "execution_count": 459,
     "metadata": {},
     "output_type": "execute_result"
    }
   ],
   "source": [
    "def f_open_b(fp):\n",
    "    try:\n",
    "        f=open(fp,'r')\n",
    "    except IOError as e:\n",
    "        print('Unable to open',fp,':%s\\n' %e)\n",
    "    else:\n",
    "        data=f.read()\n",
    "        f.close()\n",
    "        return data\n",
    "    finally:\n",
    "        print('done!')\n",
    "f_open_b(\"./data/tryException.txt\")        "
   ]
  },
  {
   "cell_type": "markdown",
   "id": "496e0df8-2c93-416b-8718-5aa5e5f571e4",
   "metadata": {},
   "source": [
    "### 3.7.2 python内置异常\n",
    "\n",
    "<a href=\"\"><img src=\"./imgs/015.jpg\" height=\"auto\" width=\"600\" title=\"caDesign\"></a>  "
   ]
  },
  {
   "cell_type": "markdown",
   "id": "beb8ee2c-76c9-4449-8e16-4317411b2109",
   "metadata": {},
   "source": [
    "**raise 引发异常**"
   ]
  },
  {
   "cell_type": "code",
   "execution_count": 461,
   "id": "5b674af7-8d5e-4d5a-8ce5-d4e2955fc283",
   "metadata": {},
   "outputs": [
    {
     "ename": "Exception",
     "evalue": "",
     "output_type": "error",
     "traceback": [
      "\u001b[1;31m---------------------------------------------------------------------------\u001b[0m",
      "\u001b[1;31mException\u001b[0m                                 Traceback (most recent call last)",
      "\u001b[1;32m~\\AppData\\Local\\Temp/ipykernel_38760/3275756190.py\u001b[0m in \u001b[0;36m<module>\u001b[1;34m\u001b[0m\n\u001b[1;32m----> 1\u001b[1;33m \u001b[1;32mraise\u001b[0m \u001b[0mException\u001b[0m\u001b[1;33m\u001b[0m\u001b[1;33m\u001b[0m\u001b[0m\n\u001b[0m",
      "\u001b[1;31mException\u001b[0m: "
     ]
    }
   ],
   "source": [
    "raise Exception #没有任何有关错误信息的普通异常"
   ]
  },
  {
   "cell_type": "code",
   "execution_count": 462,
   "id": "aab7d9cd-2201-42fd-9f48-548b7fd2b52d",
   "metadata": {},
   "outputs": [
    {
     "ename": "Exception",
     "evalue": "Computer says no!",
     "output_type": "error",
     "traceback": [
      "\u001b[1;31m---------------------------------------------------------------------------\u001b[0m",
      "\u001b[1;31mException\u001b[0m                                 Traceback (most recent call last)",
      "\u001b[1;32m~\\AppData\\Local\\Temp/ipykernel_38760/602727432.py\u001b[0m in \u001b[0;36m<module>\u001b[1;34m\u001b[0m\n\u001b[1;32m----> 1\u001b[1;33m \u001b[1;32mraise\u001b[0m \u001b[0mException\u001b[0m\u001b[1;33m(\u001b[0m\u001b[1;34m'Computer says no!'\u001b[0m\u001b[1;33m)\u001b[0m \u001b[1;31m#添加错误信息的异常\u001b[0m\u001b[1;33m\u001b[0m\u001b[1;33m\u001b[0m\u001b[0m\n\u001b[0m",
      "\u001b[1;31mException\u001b[0m: Computer says no!"
     ]
    }
   ],
   "source": [
    "raise Exception('Computer says no!') #添加错误信息的异常"
   ]
  },
  {
   "cell_type": "code",
   "execution_count": 464,
   "id": "4ae82279-8117-4622-a9b4-a2c968d03b6a",
   "metadata": {},
   "outputs": [
    {
     "ename": "some_custom_exception",
     "evalue": "",
     "output_type": "error",
     "traceback": [
      "\u001b[1;31m---------------------------------------------------------------------------\u001b[0m",
      "\u001b[1;31msome_custom_exception\u001b[0m                     Traceback (most recent call last)",
      "\u001b[1;32m~\\AppData\\Local\\Temp/ipykernel_38760/2391698703.py\u001b[0m in \u001b[0;36m<module>\u001b[1;34m\u001b[0m\n\u001b[0;32m      1\u001b[0m \u001b[1;32mclass\u001b[0m \u001b[0msome_custom_exception\u001b[0m\u001b[1;33m(\u001b[0m\u001b[0mException\u001b[0m\u001b[1;33m)\u001b[0m\u001b[1;33m:\u001b[0m\u001b[1;32mpass\u001b[0m \u001b[1;31m#\u001b[0m\u001b[1;33m\u001b[0m\u001b[1;33m\u001b[0m\u001b[0m\n\u001b[1;32m----> 2\u001b[1;33m \u001b[1;32mraise\u001b[0m \u001b[0msome_custom_exception\u001b[0m\u001b[1;33m\u001b[0m\u001b[1;33m\u001b[0m\u001b[0m\n\u001b[0m",
      "\u001b[1;31msome_custom_exception\u001b[0m: "
     ]
    }
   ],
   "source": [
    "class some_custom_exception(Exception):pass #\n",
    "raise some_custom_exception"
   ]
  },
  {
   "cell_type": "markdown",
   "id": "957028ad-75bd-41bf-a770-fd4f771408a5",
   "metadata": {},
   "source": [
    "**assert 断言**"
   ]
  },
  {
   "cell_type": "code",
   "execution_count": 466,
   "id": "0c785cbc-18bb-49ff-b6f1-56f519c37c06",
   "metadata": {},
   "outputs": [],
   "source": [
    "x=20\n",
    "assert x>0 #为真则不做任何事情"
   ]
  },
  {
   "cell_type": "code",
   "execution_count": 467,
   "id": "f018a7c7-6ee8-4446-87d9-318ef4d03079",
   "metadata": {},
   "outputs": [
    {
     "ename": "AssertionError",
     "evalue": "",
     "output_type": "error",
     "traceback": [
      "\u001b[1;31m---------------------------------------------------------------------------\u001b[0m",
      "\u001b[1;31mAssertionError\u001b[0m                            Traceback (most recent call last)",
      "\u001b[1;32m~\\AppData\\Local\\Temp/ipykernel_38760/2309557825.py\u001b[0m in \u001b[0;36m<module>\u001b[1;34m\u001b[0m\n\u001b[1;32m----> 1\u001b[1;33m \u001b[1;32massert\u001b[0m \u001b[0mx\u001b[0m\u001b[1;33m<\u001b[0m\u001b[1;36m0\u001b[0m \u001b[1;31m#为假则引发AssertionError异常\u001b[0m\u001b[1;33m\u001b[0m\u001b[1;33m\u001b[0m\u001b[0m\n\u001b[0m",
      "\u001b[1;31mAssertionError\u001b[0m: "
     ]
    }
   ],
   "source": [
    "assert x<0 #为假则引发AssertionError异常"
   ]
  },
  {
   "cell_type": "markdown",
   "id": "435588e1-0b97-4c89-a1ea-9eed8b3f7fcf",
   "metadata": {},
   "source": [
    "<a href=\"\"><img src=\"./imgs/016.jpg\" height=\"auto\" width=\"auto\" title=\"caDesign\"></a>  "
   ]
  }
 ],
 "metadata": {
  "kernelspec": {
   "display_name": "Python 3 (ipykernel)",
   "language": "python",
   "name": "python3"
  },
  "language_info": {
   "codemirror_mode": {
    "name": "ipython",
    "version": 3
   },
   "file_extension": ".py",
   "mimetype": "text/x-python",
   "name": "python",
   "nbconvert_exporter": "python",
   "pygments_lexer": "ipython3",
   "version": "3.8.11"
  }
 },
 "nbformat": 4,
 "nbformat_minor": 5
}
